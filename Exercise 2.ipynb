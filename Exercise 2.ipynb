{
 "cells": [
  {
   "cell_type": "code",
   "execution_count": 1,
   "metadata": {},
   "outputs": [
    {
     "name": "stderr",
     "output_type": "stream",
     "text": [
      "Loading tidyverse: ggplot2\n",
      "Loading tidyverse: tibble\n",
      "Loading tidyverse: tidyr\n",
      "Loading tidyverse: readr\n",
      "Loading tidyverse: purrr\n",
      "Loading tidyverse: dplyr\n",
      "Warning message:\n",
      "\"package 'tidyr' was built under R version 3.4.3\"Conflicts with tidy packages ---------------------------------------------------\n",
      "filter(): dplyr, stats\n",
      "lag():    dplyr, stats\n"
     ]
    }
   ],
   "source": [
    "library(tidyverse)"
   ]
  },
  {
   "cell_type": "code",
   "execution_count": 2,
   "metadata": {},
   "outputs": [
    {
     "name": "stderr",
     "output_type": "stream",
     "text": [
      "\n",
      "Attaching package: 'reshape2'\n",
      "\n",
      "The following object is masked from 'package:tidyr':\n",
      "\n",
      "    smiths\n",
      "\n"
     ]
    }
   ],
   "source": [
    "library(reshape2)"
   ]
  },
  {
   "cell_type": "code",
   "execution_count": 3,
   "metadata": {},
   "outputs": [
    {
     "name": "stderr",
     "output_type": "stream",
     "text": [
      "Warning message:\n",
      "\"package 'gridExtra' was built under R version 3.4.3\"\n",
      "Attaching package: 'gridExtra'\n",
      "\n",
      "The following object is masked from 'package:dplyr':\n",
      "\n",
      "    combine\n",
      "\n"
     ]
    }
   ],
   "source": [
    "library(gridExtra)"
   ]
  },
  {
   "cell_type": "markdown",
   "metadata": {},
   "source": [
    "# 8"
   ]
  },
  {
   "cell_type": "code",
   "execution_count": 15,
   "metadata": {
    "collapsed": true
   },
   "outputs": [],
   "source": [
    "college <- read.csv('College.csv', header = TRUE)"
   ]
  },
  {
   "cell_type": "code",
   "execution_count": 17,
   "metadata": {
    "scrolled": true
   },
   "outputs": [],
   "source": [
    "rownames(college) <- college[, 1]"
   ]
  },
  {
   "cell_type": "code",
   "execution_count": 18,
   "metadata": {
    "collapsed": true
   },
   "outputs": [],
   "source": [
    "college <- college[, -1]"
   ]
  },
  {
   "cell_type": "code",
   "execution_count": 20,
   "metadata": {
    "scrolled": true
   },
   "outputs": [
    {
     "data": {
      "text/plain": [
       " Private        Apps           Accept          Enroll       Top10perc    \n",
       " No :212   Min.   :   81   Min.   :   72   Min.   :  35   Min.   : 1.00  \n",
       " Yes:565   1st Qu.:  776   1st Qu.:  604   1st Qu.: 242   1st Qu.:15.00  \n",
       "           Median : 1558   Median : 1110   Median : 434   Median :23.00  \n",
       "           Mean   : 3002   Mean   : 2019   Mean   : 780   Mean   :27.56  \n",
       "           3rd Qu.: 3624   3rd Qu.: 2424   3rd Qu.: 902   3rd Qu.:35.00  \n",
       "           Max.   :48094   Max.   :26330   Max.   :6392   Max.   :96.00  \n",
       "   Top25perc      F.Undergrad     P.Undergrad         Outstate    \n",
       " Min.   :  9.0   Min.   :  139   Min.   :    1.0   Min.   : 2340  \n",
       " 1st Qu.: 41.0   1st Qu.:  992   1st Qu.:   95.0   1st Qu.: 7320  \n",
       " Median : 54.0   Median : 1707   Median :  353.0   Median : 9990  \n",
       " Mean   : 55.8   Mean   : 3700   Mean   :  855.3   Mean   :10441  \n",
       " 3rd Qu.: 69.0   3rd Qu.: 4005   3rd Qu.:  967.0   3rd Qu.:12925  \n",
       " Max.   :100.0   Max.   :31643   Max.   :21836.0   Max.   :21700  \n",
       "   Room.Board       Books           Personal         PhD        \n",
       " Min.   :1780   Min.   :  96.0   Min.   : 250   Min.   :  8.00  \n",
       " 1st Qu.:3597   1st Qu.: 470.0   1st Qu.: 850   1st Qu.: 62.00  \n",
       " Median :4200   Median : 500.0   Median :1200   Median : 75.00  \n",
       " Mean   :4358   Mean   : 549.4   Mean   :1341   Mean   : 72.66  \n",
       " 3rd Qu.:5050   3rd Qu.: 600.0   3rd Qu.:1700   3rd Qu.: 85.00  \n",
       " Max.   :8124   Max.   :2340.0   Max.   :6800   Max.   :103.00  \n",
       "    Terminal       S.F.Ratio      perc.alumni        Expend     \n",
       " Min.   : 24.0   Min.   : 2.50   Min.   : 0.00   Min.   : 3186  \n",
       " 1st Qu.: 71.0   1st Qu.:11.50   1st Qu.:13.00   1st Qu.: 6751  \n",
       " Median : 82.0   Median :13.60   Median :21.00   Median : 8377  \n",
       " Mean   : 79.7   Mean   :14.09   Mean   :22.74   Mean   : 9660  \n",
       " 3rd Qu.: 92.0   3rd Qu.:16.50   3rd Qu.:31.00   3rd Qu.:10830  \n",
       " Max.   :100.0   Max.   :39.80   Max.   :64.00   Max.   :56233  \n",
       "   Grad.Rate     \n",
       " Min.   : 10.00  \n",
       " 1st Qu.: 53.00  \n",
       " Median : 65.00  \n",
       " Mean   : 65.46  \n",
       " 3rd Qu.: 78.00  \n",
       " Max.   :118.00  "
      ]
     },
     "metadata": {},
     "output_type": "display_data"
    }
   ],
   "source": [
    "summary(college)"
   ]
  },
  {
   "cell_type": "code",
   "execution_count": 21,
   "metadata": {
    "scrolled": true
   },
   "outputs": [
    {
     "data": {
      "image/png": "[encoded data removed]",
      "text/plain": [
       "plot without title"
      ]
     },
     "metadata": {},
     "output_type": "display_data"
    }
   ],
   "source": [
    "pairs(college[, 1:10])"
   ]
  },
  {
   "cell_type": "code",
   "execution_count": 24,
   "metadata": {
    "scrolled": true
   },
   "outputs": [
    {
     "data": {
      "image/png": "[encoded data removed]",
      "text/plain": [
       "plot without title"
      ]
     },
     "metadata": {},
     "output_type": "display_data"
    }
   ],
   "source": [
    "plot(college$Private, college$Outstate, xlab = 'Private', ylab = 'Out of state tuition')"
   ]
  },
  {
   "cell_type": "code",
   "execution_count": 30,
   "metadata": {},
   "outputs": [],
   "source": [
    "college <- college %>%\n",
    "mutate(Elite = as.factor(ifelse(Top10perc > 50, 'Yes', 'No')))"
   ]
  },
  {
   "cell_type": "code",
   "execution_count": 33,
   "metadata": {
    "scrolled": true
   },
   "outputs": [
    {
     "data": {
      "text/html": [
       "<dl class=dl-horizontal>\n",
       "\t<dt>No</dt>\n",
       "\t\t<dd>699</dd>\n",
       "\t<dt>Yes</dt>\n",
       "\t\t<dd>78</dd>\n",
       "</dl>\n"
      ],
      "text/latex": [
       "\\begin{description*}\n",
       "\\item[No] 699\n",
       "\\item[Yes] 78\n",
       "\\end{description*}\n"
      ],
      "text/markdown": [
       "No\n",
       ":   699Yes\n",
       ":   78\n",
       "\n"
      ],
      "text/plain": [
       " No Yes \n",
       "699  78 "
      ]
     },
     "metadata": {},
     "output_type": "display_data"
    }
   ],
   "source": [
    "summary(college$Elite)"
   ]
  },
  {
   "cell_type": "code",
   "execution_count": 34,
   "metadata": {
    "scrolled": true
   },
   "outputs": [
    {
     "data": {
      "image/png": "[encoded data removed]",
      "text/plain": [
       "plot without title"
      ]
     },
     "metadata": {},
     "output_type": "display_data"
    }
   ],
   "source": [
    "plot(college$Elite, college$Outstat, xlab = 'Elite', ylab = 'Out of state tuition')"
   ]
  },
  {
   "cell_type": "code",
   "execution_count": 38,
   "metadata": {
    "scrolled": true
   },
   "outputs": [
    {
     "data": {
      "text/html": [
       "<table>\n",
       "<thead><tr><th scope=col>Apps</th><th scope=col>Accept</th><th scope=col>Enroll</th><th scope=col>Top10perc</th><th scope=col>Top25perc</th><th scope=col>F.Undergrad</th><th scope=col>P.Undergrad</th><th scope=col>Outstate</th><th scope=col>Room.Board</th><th scope=col>Books</th><th scope=col>Personal</th><th scope=col>PhD</th><th scope=col>Terminal</th><th scope=col>S.F.Ratio</th><th scope=col>perc.alumni</th><th scope=col>Expend</th><th scope=col>Grad.Rate</th></tr></thead>\n",
       "<tbody>\n",
       "\t<tr><td> 1660</td><td> 1232</td><td> 721 </td><td>23   </td><td>52   </td><td> 2885</td><td> 537 </td><td> 7440</td><td>3300 </td><td>450  </td><td>2200 </td><td>70   </td><td> 78  </td><td>18.1 </td><td>12   </td><td> 7041</td><td> 60  </td></tr>\n",
       "\t<tr><td> 2186</td><td> 1924</td><td> 512 </td><td>16   </td><td>29   </td><td> 2683</td><td>1227 </td><td>12280</td><td>6450 </td><td>750  </td><td>1500 </td><td>29   </td><td> 30  </td><td>12.2 </td><td>16   </td><td>10527</td><td> 56  </td></tr>\n",
       "\t<tr><td> 1428</td><td> 1097</td><td> 336 </td><td>22   </td><td>50   </td><td> 1036</td><td>  99 </td><td>11250</td><td>3750 </td><td>400  </td><td>1165 </td><td>53   </td><td> 66  </td><td>12.9 </td><td>30   </td><td> 8735</td><td> 54  </td></tr>\n",
       "\t<tr><td>  417</td><td>  349</td><td> 137 </td><td>60   </td><td>89   </td><td>  510</td><td>  63 </td><td>12960</td><td>5450 </td><td>450  </td><td> 875 </td><td>92   </td><td> 97  </td><td> 7.7 </td><td>37   </td><td>19016</td><td> 59  </td></tr>\n",
       "\t<tr><td>  193</td><td>  146</td><td>  55 </td><td>16   </td><td>44   </td><td>  249</td><td> 869 </td><td> 7560</td><td>4120 </td><td>800  </td><td>1500 </td><td>76   </td><td> 72  </td><td>11.9 </td><td> 2   </td><td>10922</td><td> 15  </td></tr>\n",
       "\t<tr><td>  587</td><td>  479</td><td> 158 </td><td>38   </td><td>62   </td><td>  678</td><td>  41 </td><td>13500</td><td>3335 </td><td>500  </td><td> 675 </td><td>67   </td><td> 73  </td><td> 9.4 </td><td>11   </td><td> 9727</td><td> 55  </td></tr>\n",
       "\t<tr><td>  353</td><td>  340</td><td> 103 </td><td>17   </td><td>45   </td><td>  416</td><td> 230 </td><td>13290</td><td>5720 </td><td>500  </td><td>1500 </td><td>90   </td><td> 93  </td><td>11.5 </td><td>26   </td><td> 8861</td><td> 63  </td></tr>\n",
       "\t<tr><td> 1899</td><td> 1720</td><td> 489 </td><td>37   </td><td>68   </td><td> 1594</td><td>  32 </td><td>13868</td><td>4826 </td><td>450  </td><td> 850 </td><td>89   </td><td>100  </td><td>13.7 </td><td>37   </td><td>11487</td><td> 73  </td></tr>\n",
       "\t<tr><td> 1038</td><td>  839</td><td> 227 </td><td>30   </td><td>63   </td><td>  973</td><td> 306 </td><td>15595</td><td>4400 </td><td>300  </td><td> 500 </td><td>79   </td><td> 84  </td><td>11.3 </td><td>23   </td><td>11644</td><td> 80  </td></tr>\n",
       "\t<tr><td>  582</td><td>  498</td><td> 172 </td><td>21   </td><td>44   </td><td>  799</td><td>  78 </td><td>10468</td><td>3380 </td><td>660  </td><td>1800 </td><td>40   </td><td> 41  </td><td>11.5 </td><td>15   </td><td> 8991</td><td> 52  </td></tr>\n",
       "\t<tr><td> 1732</td><td> 1425</td><td> 472 </td><td>37   </td><td>75   </td><td> 1830</td><td> 110 </td><td>16548</td><td>5406 </td><td>500  </td><td> 600 </td><td>82   </td><td> 88  </td><td>11.3 </td><td>31   </td><td>10932</td><td> 73  </td></tr>\n",
       "\t<tr><td> 2652</td><td> 1900</td><td> 484 </td><td>44   </td><td>77   </td><td> 1707</td><td>  44 </td><td>17080</td><td>4440 </td><td>400  </td><td> 600 </td><td>73   </td><td> 91  </td><td> 9.9 </td><td>41   </td><td>11711</td><td> 76  </td></tr>\n",
       "\t<tr><td> 1179</td><td>  780</td><td> 290 </td><td>38   </td><td>64   </td><td> 1130</td><td> 638 </td><td> 9690</td><td>4785 </td><td>600  </td><td>1000 </td><td>60   </td><td> 84  </td><td>13.3 </td><td>21   </td><td> 7940</td><td> 74  </td></tr>\n",
       "\t<tr><td> 1267</td><td> 1080</td><td> 385 </td><td>44   </td><td>73   </td><td> 1306</td><td>  28 </td><td>12572</td><td>4552 </td><td>400  </td><td> 400 </td><td>79   </td><td> 87  </td><td>15.3 </td><td>32   </td><td> 9305</td><td> 68  </td></tr>\n",
       "\t<tr><td>  494</td><td>  313</td><td> 157 </td><td>23   </td><td>46   </td><td> 1317</td><td>1235 </td><td> 8352</td><td>3640 </td><td>650  </td><td>2449 </td><td>36   </td><td> 69  </td><td>11.1 </td><td>26   </td><td> 8127</td><td> 55  </td></tr>\n",
       "\t<tr><td> 1420</td><td> 1093</td><td> 220 </td><td> 9   </td><td>22   </td><td> 1018</td><td> 287 </td><td> 8700</td><td>4780 </td><td>450  </td><td>1400 </td><td>78   </td><td> 84  </td><td>14.7 </td><td>19   </td><td> 7355</td><td> 69  </td></tr>\n",
       "\t<tr><td> 4302</td><td>  992</td><td> 418 </td><td>83   </td><td>96   </td><td> 1593</td><td>   5 </td><td>19760</td><td>5300 </td><td>660  </td><td>1598 </td><td>93   </td><td> 98  </td><td> 8.4 </td><td>63   </td><td>21424</td><td>100  </td></tr>\n",
       "\t<tr><td> 1216</td><td>  908</td><td> 423 </td><td>19   </td><td>40   </td><td> 1819</td><td> 281 </td><td>10100</td><td>3520 </td><td>550  </td><td>1100 </td><td>48   </td><td> 61  </td><td>12.1 </td><td>14   </td><td> 7994</td><td> 59  </td></tr>\n",
       "\t<tr><td> 1130</td><td>  704</td><td> 322 </td><td>14   </td><td>23   </td><td> 1586</td><td> 326 </td><td> 9996</td><td>3090 </td><td>900  </td><td>1320 </td><td>62   </td><td> 66  </td><td>11.5 </td><td>18   </td><td>10908</td><td> 46  </td></tr>\n",
       "\t<tr><td> 3540</td><td> 2001</td><td>1016 </td><td>24   </td><td>54   </td><td> 4190</td><td>1512 </td><td> 5130</td><td>3592 </td><td>500  </td><td>2000 </td><td>60   </td><td> 62  </td><td>23.1 </td><td> 5   </td><td> 4010</td><td> 34  </td></tr>\n",
       "\t<tr><td>  713</td><td>  661</td><td> 252 </td><td>25   </td><td>44   </td><td>  712</td><td>  23 </td><td>15476</td><td>3336 </td><td>400  </td><td>1100 </td><td>69   </td><td> 82  </td><td>11.3 </td><td>35   </td><td>42926</td><td> 48  </td></tr>\n",
       "\t<tr><td> 7313</td><td> 4664</td><td>1910 </td><td>20   </td><td>63   </td><td> 9940</td><td>1035 </td><td> 6806</td><td>2540 </td><td> 96  </td><td>2000 </td><td>83   </td><td> 96  </td><td>18.3 </td><td>14   </td><td> 5854</td><td> 70  </td></tr>\n",
       "\t<tr><td>  619</td><td>  516</td><td> 219 </td><td>20   </td><td>51   </td><td> 1251</td><td> 767 </td><td>11208</td><td>4124 </td><td>350  </td><td>1615 </td><td>55   </td><td> 65  </td><td>12.7 </td><td>25   </td><td> 6584</td><td> 65  </td></tr>\n",
       "\t<tr><td>12809</td><td>10308</td><td>3761 </td><td>24   </td><td>49   </td><td>22593</td><td>7585 </td><td> 7434</td><td>4850 </td><td>700  </td><td>2100 </td><td>88   </td><td> 93  </td><td>18.9 </td><td> 5   </td><td> 4602</td><td> 48  </td></tr>\n",
       "\t<tr><td>  708</td><td>  334</td><td> 166 </td><td>46   </td><td>74   </td><td>  530</td><td> 182 </td><td> 8644</td><td>3922 </td><td>500  </td><td> 800 </td><td>79   </td><td> 88  </td><td>12.6 </td><td>24   </td><td>14579</td><td> 54  </td></tr>\n",
       "\t<tr><td> 1734</td><td> 1729</td><td> 951 </td><td>12   </td><td>52   </td><td> 3602</td><td> 939 </td><td> 3460</td><td>2650 </td><td>450  </td><td>1000 </td><td>57   </td><td> 60  </td><td>19.6 </td><td> 5   </td><td> 4739</td><td> 48  </td></tr>\n",
       "\t<tr><td> 2135</td><td> 1700</td><td> 491 </td><td>23   </td><td>59   </td><td> 1708</td><td> 689 </td><td>12000</td><td>5920 </td><td>500  </td><td> 500 </td><td>93   </td><td> 93  </td><td>13.8 </td><td>30   </td><td> 7100</td><td> 88  </td></tr>\n",
       "\t<tr><td> 7548</td><td> 6791</td><td>3070 </td><td>25   </td><td>57   </td><td>16262</td><td>1716 </td><td> 6300</td><td>3933 </td><td>600  </td><td>1908 </td><td>85   </td><td> 91  </td><td>16.7 </td><td>18   </td><td> 6642</td><td> 69  </td></tr>\n",
       "\t<tr><td>  662</td><td>  513</td><td> 257 </td><td>12   </td><td>30   </td><td> 2074</td><td> 726 </td><td>11902</td><td>4372 </td><td>540  </td><td> 950 </td><td>65   </td><td> 65  </td><td>12.8 </td><td>31   </td><td> 7836</td><td> 58  </td></tr>\n",
       "\t<tr><td> 1879</td><td> 1658</td><td> 497 </td><td>36   </td><td>69   </td><td> 1950</td><td>  38 </td><td>13353</td><td>4173 </td><td>540  </td><td> 821 </td><td>78   </td><td> 83  </td><td>12.7 </td><td>40   </td><td> 9220</td><td> 71  </td></tr>\n",
       "\t<tr><td>...</td><td>...</td><td>...</td><td>...</td><td>...</td><td>...</td><td>...</td><td>...</td><td>...</td><td>...</td><td>...</td><td>...</td><td>...</td><td>...</td><td>...</td><td>...</td><td>...</td></tr>\n",
       "\t<tr><td> 3100</td><td>2150 </td><td> 825 </td><td> 3   </td><td>20   </td><td>3234 </td><td> 941 </td><td> 5542</td><td>3788 </td><td>500  </td><td>1300 </td><td>75   </td><td>79   </td><td>15.7 </td><td>20   </td><td> 4222</td><td>65   </td></tr>\n",
       "\t<tr><td>  662</td><td> 553 </td><td> 184 </td><td>20   </td><td>43   </td><td> 665 </td><td>  37 </td><td>10720</td><td>4050 </td><td>600  </td><td>1650 </td><td>66   </td><td>70   </td><td>12.5 </td><td>20   </td><td> 7925</td><td>62   </td></tr>\n",
       "\t<tr><td>  996</td><td> 866 </td><td> 377 </td><td>29   </td><td>58   </td><td>1411 </td><td>  72 </td><td>12065</td><td>3615 </td><td>430  </td><td> 685 </td><td>62   </td><td>78   </td><td>12.5 </td><td>41   </td><td> 8596</td><td>80   </td></tr>\n",
       "\t<tr><td>  917</td><td> 720 </td><td> 213 </td><td>21   </td><td>60   </td><td> 979 </td><td> 743 </td><td> 8820</td><td>4050 </td><td>600  </td><td>2025 </td><td>68   </td><td>83   </td><td>10.5 </td><td>34   </td><td> 7170</td><td>50   </td></tr>\n",
       "\t<tr><td>  950</td><td> 713 </td><td> 351 </td><td>42   </td><td>72   </td><td>1276 </td><td>   9 </td><td>14320</td><td>5304 </td><td>490  </td><td>1410 </td><td>77   </td><td>77   </td><td>14.9 </td><td>17   </td><td> 8837</td><td>87   </td></tr>\n",
       "\t<tr><td> 1432</td><td> 920 </td><td> 548 </td><td>56   </td><td>84   </td><td>2200 </td><td>  56 </td><td>11480</td><td>4200 </td><td>530  </td><td>1400 </td><td>81   </td><td>83   </td><td>12.7 </td><td>40   </td><td>11916</td><td>85   </td></tr>\n",
       "\t<tr><td> 1738</td><td>1373 </td><td> 417 </td><td>21   </td><td>55   </td><td>1335 </td><td>  30 </td><td>18460</td><td>5970 </td><td>700  </td><td> 850 </td><td>92   </td><td>96   </td><td>13.2 </td><td>41   </td><td>22704</td><td>71   </td></tr>\n",
       "\t<tr><td>  903</td><td> 755 </td><td> 213 </td><td>15   </td><td>49   </td><td> 971 </td><td> 305 </td><td>10500</td><td>4545 </td><td>600  </td><td> 600 </td><td>66   </td><td>71   </td><td>14.1 </td><td>27   </td><td> 7494</td><td>72   </td></tr>\n",
       "\t<tr><td> 1861</td><td> 998 </td><td> 359 </td><td>45   </td><td>77   </td><td>1220 </td><td>  46 </td><td>16670</td><td>4900 </td><td>750  </td><td> 800 </td><td>80   </td><td>83   </td><td>10.5 </td><td>51   </td><td>13198</td><td>72   </td></tr>\n",
       "\t<tr><td> 1681</td><td>1069 </td><td> 344 </td><td>35   </td><td>63   </td><td>1235 </td><td>  30 </td><td>16249</td><td>5699 </td><td>500  </td><td>1998 </td><td>84   </td><td>92   </td><td>13.6 </td><td>29   </td><td>11778</td><td>52   </td></tr>\n",
       "\t<tr><td> 1121</td><td> 926 </td><td> 372 </td><td>43   </td><td>70   </td><td>1270 </td><td> 160 </td><td>12660</td><td>4500 </td><td>678  </td><td>2424 </td><td>80   </td><td>80   </td><td>16.9 </td><td>20   </td><td> 8328</td><td>80   </td></tr>\n",
       "\t<tr><td> 2139</td><td>1492 </td><td> 502 </td><td>24   </td><td>64   </td><td>2186 </td><td>2171 </td><td>12350</td><td>5370 </td><td>500  </td><td>1350 </td><td>88   </td><td>86   </td><td>12.6 </td><td>19   </td><td> 9603</td><td>63   </td></tr>\n",
       "\t<tr><td> 1631</td><td>1431 </td><td> 434 </td><td>15   </td><td>36   </td><td>1803 </td><td> 603 </td><td>11150</td><td>5130 </td><td>550  </td><td>1260 </td><td>78   </td><td>92   </td><td>13.3 </td><td>24   </td><td> 8543</td><td>67   </td></tr>\n",
       "\t<tr><td> 1658</td><td>1327 </td><td> 395 </td><td>49   </td><td>80   </td><td>1595 </td><td> 159 </td><td>14800</td><td>4620 </td><td>400  </td><td> 790 </td><td>91   </td><td>94   </td><td>13.3 </td><td>37   </td><td>10779</td><td>68   </td></tr>\n",
       "\t<tr><td>  663</td><td> 547 </td><td> 315 </td><td>32   </td><td>67   </td><td>1279 </td><td>  75 </td><td>10060</td><td>2970 </td><td>500  </td><td>2600 </td><td>74   </td><td>80   </td><td>11.2 </td><td>19   </td><td> 7885</td><td>59   </td></tr>\n",
       "\t<tr><td>  469</td><td> 435 </td><td> 227 </td><td>17   </td><td>39   </td><td> 851 </td><td> 120 </td><td>10535</td><td>4365 </td><td>550  </td><td>3700 </td><td>39   </td><td>66   </td><td>12.9 </td><td>16   </td><td> 7438</td><td>52   </td></tr>\n",
       "\t<tr><td> 4186</td><td>1245 </td><td> 526 </td><td>81   </td><td>96   </td><td>1988 </td><td>  29 </td><td>19629</td><td>5790 </td><td>500  </td><td>1200 </td><td>94   </td><td>99   </td><td> 9.0 </td><td>64   </td><td>22014</td><td>99   </td></tr>\n",
       "\t<tr><td>  167</td><td> 130 </td><td>  46 </td><td>16   </td><td>50   </td><td> 199 </td><td> 676 </td><td>11428</td><td>5084 </td><td>450  </td><td> 475 </td><td>67   </td><td>76   </td><td> 8.3 </td><td>43   </td><td>10291</td><td>67   </td></tr>\n",
       "\t<tr><td> 1239</td><td>1017 </td><td> 383 </td><td>10   </td><td>34   </td><td>1207 </td><td> 157 </td><td> 7820</td><td>3400 </td><td>550  </td><td>1550 </td><td>69   </td><td>81   </td><td>13.9 </td><td> 8   </td><td> 7264</td><td>91   </td></tr>\n",
       "\t<tr><td> 3325</td><td>2047 </td><td>1301 </td><td>20   </td><td>45   </td><td>5800 </td><td> 872 </td><td> 4200</td><td>2700 </td><td>300  </td><td>1200 </td><td>53   </td><td>60   </td><td>20.2 </td><td>18   </td><td> 5318</td><td>58   </td></tr>\n",
       "\t<tr><td> 2320</td><td>1805 </td><td> 769 </td><td>24   </td><td>61   </td><td>3395 </td><td> 670 </td><td> 6400</td><td>3392 </td><td>580  </td><td>2150 </td><td>71   </td><td>80   </td><td>12.8 </td><td>26   </td><td> 6729</td><td>59   </td></tr>\n",
       "\t<tr><td>  152</td><td> 128 </td><td>  75 </td><td>17   </td><td>41   </td><td> 282 </td><td>  22 </td><td> 9100</td><td>3700 </td><td>500  </td><td>1400 </td><td>48   </td><td>48   </td><td> 8.5 </td><td>26   </td><td> 8960</td><td>50   </td></tr>\n",
       "\t<tr><td> 1979</td><td>1739 </td><td> 575 </td><td>42   </td><td>68   </td><td>1980 </td><td> 144 </td><td>15948</td><td>4404 </td><td>400  </td><td> 800 </td><td>82   </td><td>95   </td><td>12.8 </td><td>29   </td><td>10414</td><td>78   </td></tr>\n",
       "\t<tr><td> 1501</td><td> 935 </td><td> 273 </td><td>51   </td><td>83   </td><td>1059 </td><td>  34 </td><td>12680</td><td>4150 </td><td>605  </td><td>1440 </td><td>91   </td><td>92   </td><td>15.3 </td><td>42   </td><td> 7875</td><td>75   </td></tr>\n",
       "\t<tr><td> 2768</td><td>2314 </td><td> 682 </td><td>49   </td><td>86   </td><td>2802 </td><td>  86 </td><td>15884</td><td>5370 </td><td>530  </td><td> 730 </td><td>92   </td><td>94   </td><td>15.2 </td><td>34   </td><td>10774</td><td>82   </td></tr>\n",
       "\t<tr><td> 2197</td><td>1515 </td><td> 543 </td><td> 4   </td><td>26   </td><td>3089 </td><td>2029 </td><td> 6797</td><td>3900 </td><td>500  </td><td>1200 </td><td>60   </td><td>60   </td><td>21.0 </td><td>14   </td><td> 4469</td><td>40   </td></tr>\n",
       "\t<tr><td> 1959</td><td>1805 </td><td> 695 </td><td>24   </td><td>47   </td><td>2849 </td><td>1107 </td><td>11520</td><td>4960 </td><td>600  </td><td>1250 </td><td>73   </td><td>75   </td><td>13.3 </td><td>31   </td><td> 9189</td><td>83   </td></tr>\n",
       "\t<tr><td> 2097</td><td>1915 </td><td> 695 </td><td>34   </td><td>61   </td><td>2793 </td><td> 166 </td><td> 6900</td><td>4200 </td><td>617  </td><td> 781 </td><td>67   </td><td>75   </td><td>14.4 </td><td>20   </td><td> 8323</td><td>49   </td></tr>\n",
       "\t<tr><td>10705</td><td>2453 </td><td>1317 </td><td>95   </td><td>99   </td><td>5217 </td><td>  83 </td><td>19840</td><td>6510 </td><td>630  </td><td>2115 </td><td>96   </td><td>96   </td><td> 5.8 </td><td>49   </td><td>40386</td><td>99   </td></tr>\n",
       "\t<tr><td> 2989</td><td>1855 </td><td> 691 </td><td>28   </td><td>63   </td><td>2988 </td><td>1726 </td><td> 4990</td><td>3560 </td><td>500  </td><td>1250 </td><td>75   </td><td>75   </td><td>18.1 </td><td>28   </td><td> 4509</td><td>99   </td></tr>\n",
       "</tbody>\n",
       "</table>\n"
      ],
      "text/latex": [
       "\\begin{tabular}{r|lllllllllllllllll}\n",
       " Apps & Accept & Enroll & Top10perc & Top25perc & F.Undergrad & P.Undergrad & Outstate & Room.Board & Books & Personal & PhD & Terminal & S.F.Ratio & perc.alumni & Expend & Grad.Rate\\\\\n",
       "\\hline\n",
       "\t  1660 &  1232 &  721  & 23    & 52    &  2885 &  537  &  7440 & 3300  & 450   & 2200  & 70    &  78   & 18.1  & 12    &  7041 &  60  \\\\\n",
       "\t  2186 &  1924 &  512  & 16    & 29    &  2683 & 1227  & 12280 & 6450  & 750   & 1500  & 29    &  30   & 12.2  & 16    & 10527 &  56  \\\\\n",
       "\t  1428 &  1097 &  336  & 22    & 50    &  1036 &   99  & 11250 & 3750  & 400   & 1165  & 53    &  66   & 12.9  & 30    &  8735 &  54  \\\\\n",
       "\t   417 &   349 &  137  & 60    & 89    &   510 &   63  & 12960 & 5450  & 450   &  875  & 92    &  97   &  7.7  & 37    & 19016 &  59  \\\\\n",
       "\t   193 &   146 &   55  & 16    & 44    &   249 &  869  &  7560 & 4120  & 800   & 1500  & 76    &  72   & 11.9  &  2    & 10922 &  15  \\\\\n",
       "\t   587 &   479 &  158  & 38    & 62    &   678 &   41  & 13500 & 3335  & 500   &  675  & 67    &  73   &  9.4  & 11    &  9727 &  55  \\\\\n",
       "\t   353 &   340 &  103  & 17    & 45    &   416 &  230  & 13290 & 5720  & 500   & 1500  & 90    &  93   & 11.5  & 26    &  8861 &  63  \\\\\n",
       "\t  1899 &  1720 &  489  & 37    & 68    &  1594 &   32  & 13868 & 4826  & 450   &  850  & 89    & 100   & 13.7  & 37    & 11487 &  73  \\\\\n",
       "\t  1038 &   839 &  227  & 30    & 63    &   973 &  306  & 15595 & 4400  & 300   &  500  & 79    &  84   & 11.3  & 23    & 11644 &  80  \\\\\n",
       "\t   582 &   498 &  172  & 21    & 44    &   799 &   78  & 10468 & 3380  & 660   & 1800  & 40    &  41   & 11.5  & 15    &  8991 &  52  \\\\\n",
       "\t  1732 &  1425 &  472  & 37    & 75    &  1830 &  110  & 16548 & 5406  & 500   &  600  & 82    &  88   & 11.3  & 31    & 10932 &  73  \\\\\n",
       "\t  2652 &  1900 &  484  & 44    & 77    &  1707 &   44  & 17080 & 4440  & 400   &  600  & 73    &  91   &  9.9  & 41    & 11711 &  76  \\\\\n",
       "\t  1179 &   780 &  290  & 38    & 64    &  1130 &  638  &  9690 & 4785  & 600   & 1000  & 60    &  84   & 13.3  & 21    &  7940 &  74  \\\\\n",
       "\t  1267 &  1080 &  385  & 44    & 73    &  1306 &   28  & 12572 & 4552  & 400   &  400  & 79    &  87   & 15.3  & 32    &  9305 &  68  \\\\\n",
       "\t   494 &   313 &  157  & 23    & 46    &  1317 & 1235  &  8352 & 3640  & 650   & 2449  & 36    &  69   & 11.1  & 26    &  8127 &  55  \\\\\n",
       "\t  1420 &  1093 &  220  &  9    & 22    &  1018 &  287  &  8700 & 4780  & 450   & 1400  & 78    &  84   & 14.7  & 19    &  7355 &  69  \\\\\n",
       "\t  4302 &   992 &  418  & 83    & 96    &  1593 &    5  & 19760 & 5300  & 660   & 1598  & 93    &  98   &  8.4  & 63    & 21424 & 100  \\\\\n",
       "\t  1216 &   908 &  423  & 19    & 40    &  1819 &  281  & 10100 & 3520  & 550   & 1100  & 48    &  61   & 12.1  & 14    &  7994 &  59  \\\\\n",
       "\t  1130 &   704 &  322  & 14    & 23    &  1586 &  326  &  9996 & 3090  & 900   & 1320  & 62    &  66   & 11.5  & 18    & 10908 &  46  \\\\\n",
       "\t  3540 &  2001 & 1016  & 24    & 54    &  4190 & 1512  &  5130 & 3592  & 500   & 2000  & 60    &  62   & 23.1  &  5    &  4010 &  34  \\\\\n",
       "\t   713 &   661 &  252  & 25    & 44    &   712 &   23  & 15476 & 3336  & 400   & 1100  & 69    &  82   & 11.3  & 35    & 42926 &  48  \\\\\n",
       "\t  7313 &  4664 & 1910  & 20    & 63    &  9940 & 1035  &  6806 & 2540  &  96   & 2000  & 83    &  96   & 18.3  & 14    &  5854 &  70  \\\\\n",
       "\t   619 &   516 &  219  & 20    & 51    &  1251 &  767  & 11208 & 4124  & 350   & 1615  & 55    &  65   & 12.7  & 25    &  6584 &  65  \\\\\n",
       "\t 12809 & 10308 & 3761  & 24    & 49    & 22593 & 7585  &  7434 & 4850  & 700   & 2100  & 88    &  93   & 18.9  &  5    &  4602 &  48  \\\\\n",
       "\t   708 &   334 &  166  & 46    & 74    &   530 &  182  &  8644 & 3922  & 500   &  800  & 79    &  88   & 12.6  & 24    & 14579 &  54  \\\\\n",
       "\t  1734 &  1729 &  951  & 12    & 52    &  3602 &  939  &  3460 & 2650  & 450   & 1000  & 57    &  60   & 19.6  &  5    &  4739 &  48  \\\\\n",
       "\t  2135 &  1700 &  491  & 23    & 59    &  1708 &  689  & 12000 & 5920  & 500   &  500  & 93    &  93   & 13.8  & 30    &  7100 &  88  \\\\\n",
       "\t  7548 &  6791 & 3070  & 25    & 57    & 16262 & 1716  &  6300 & 3933  & 600   & 1908  & 85    &  91   & 16.7  & 18    &  6642 &  69  \\\\\n",
       "\t   662 &   513 &  257  & 12    & 30    &  2074 &  726  & 11902 & 4372  & 540   &  950  & 65    &  65   & 12.8  & 31    &  7836 &  58  \\\\\n",
       "\t  1879 &  1658 &  497  & 36    & 69    &  1950 &   38  & 13353 & 4173  & 540   &  821  & 78    &  83   & 12.7  & 40    &  9220 &  71  \\\\\n",
       "\t ... & ... & ... & ... & ... & ... & ... & ... & ... & ... & ... & ... & ... & ... & ... & ... & ...\\\\\n",
       "\t  3100 & 2150  &  825  &  3    & 20    & 3234  &  941  &  5542 & 3788  & 500   & 1300  & 75    & 79    & 15.7  & 20    &  4222 & 65   \\\\\n",
       "\t   662 &  553  &  184  & 20    & 43    &  665  &   37  & 10720 & 4050  & 600   & 1650  & 66    & 70    & 12.5  & 20    &  7925 & 62   \\\\\n",
       "\t   996 &  866  &  377  & 29    & 58    & 1411  &   72  & 12065 & 3615  & 430   &  685  & 62    & 78    & 12.5  & 41    &  8596 & 80   \\\\\n",
       "\t   917 &  720  &  213  & 21    & 60    &  979  &  743  &  8820 & 4050  & 600   & 2025  & 68    & 83    & 10.5  & 34    &  7170 & 50   \\\\\n",
       "\t   950 &  713  &  351  & 42    & 72    & 1276  &    9  & 14320 & 5304  & 490   & 1410  & 77    & 77    & 14.9  & 17    &  8837 & 87   \\\\\n",
       "\t  1432 &  920  &  548  & 56    & 84    & 2200  &   56  & 11480 & 4200  & 530   & 1400  & 81    & 83    & 12.7  & 40    & 11916 & 85   \\\\\n",
       "\t  1738 & 1373  &  417  & 21    & 55    & 1335  &   30  & 18460 & 5970  & 700   &  850  & 92    & 96    & 13.2  & 41    & 22704 & 71   \\\\\n",
       "\t   903 &  755  &  213  & 15    & 49    &  971  &  305  & 10500 & 4545  & 600   &  600  & 66    & 71    & 14.1  & 27    &  7494 & 72   \\\\\n",
       "\t  1861 &  998  &  359  & 45    & 77    & 1220  &   46  & 16670 & 4900  & 750   &  800  & 80    & 83    & 10.5  & 51    & 13198 & 72   \\\\\n",
       "\t  1681 & 1069  &  344  & 35    & 63    & 1235  &   30  & 16249 & 5699  & 500   & 1998  & 84    & 92    & 13.6  & 29    & 11778 & 52   \\\\\n",
       "\t  1121 &  926  &  372  & 43    & 70    & 1270  &  160  & 12660 & 4500  & 678   & 2424  & 80    & 80    & 16.9  & 20    &  8328 & 80   \\\\\n",
       "\t  2139 & 1492  &  502  & 24    & 64    & 2186  & 2171  & 12350 & 5370  & 500   & 1350  & 88    & 86    & 12.6  & 19    &  9603 & 63   \\\\\n",
       "\t  1631 & 1431  &  434  & 15    & 36    & 1803  &  603  & 11150 & 5130  & 550   & 1260  & 78    & 92    & 13.3  & 24    &  8543 & 67   \\\\\n",
       "\t  1658 & 1327  &  395  & 49    & 80    & 1595  &  159  & 14800 & 4620  & 400   &  790  & 91    & 94    & 13.3  & 37    & 10779 & 68   \\\\\n",
       "\t   663 &  547  &  315  & 32    & 67    & 1279  &   75  & 10060 & 2970  & 500   & 2600  & 74    & 80    & 11.2  & 19    &  7885 & 59   \\\\\n",
       "\t   469 &  435  &  227  & 17    & 39    &  851  &  120  & 10535 & 4365  & 550   & 3700  & 39    & 66    & 12.9  & 16    &  7438 & 52   \\\\\n",
       "\t  4186 & 1245  &  526  & 81    & 96    & 1988  &   29  & 19629 & 5790  & 500   & 1200  & 94    & 99    &  9.0  & 64    & 22014 & 99   \\\\\n",
       "\t   167 &  130  &   46  & 16    & 50    &  199  &  676  & 11428 & 5084  & 450   &  475  & 67    & 76    &  8.3  & 43    & 10291 & 67   \\\\\n",
       "\t  1239 & 1017  &  383  & 10    & 34    & 1207  &  157  &  7820 & 3400  & 550   & 1550  & 69    & 81    & 13.9  &  8    &  7264 & 91   \\\\\n",
       "\t  3325 & 2047  & 1301  & 20    & 45    & 5800  &  872  &  4200 & 2700  & 300   & 1200  & 53    & 60    & 20.2  & 18    &  5318 & 58   \\\\\n",
       "\t  2320 & 1805  &  769  & 24    & 61    & 3395  &  670  &  6400 & 3392  & 580   & 2150  & 71    & 80    & 12.8  & 26    &  6729 & 59   \\\\\n",
       "\t   152 &  128  &   75  & 17    & 41    &  282  &   22  &  9100 & 3700  & 500   & 1400  & 48    & 48    &  8.5  & 26    &  8960 & 50   \\\\\n",
       "\t  1979 & 1739  &  575  & 42    & 68    & 1980  &  144  & 15948 & 4404  & 400   &  800  & 82    & 95    & 12.8  & 29    & 10414 & 78   \\\\\n",
       "\t  1501 &  935  &  273  & 51    & 83    & 1059  &   34  & 12680 & 4150  & 605   & 1440  & 91    & 92    & 15.3  & 42    &  7875 & 75   \\\\\n",
       "\t  2768 & 2314  &  682  & 49    & 86    & 2802  &   86  & 15884 & 5370  & 530   &  730  & 92    & 94    & 15.2  & 34    & 10774 & 82   \\\\\n",
       "\t  2197 & 1515  &  543  &  4    & 26    & 3089  & 2029  &  6797 & 3900  & 500   & 1200  & 60    & 60    & 21.0  & 14    &  4469 & 40   \\\\\n",
       "\t  1959 & 1805  &  695  & 24    & 47    & 2849  & 1107  & 11520 & 4960  & 600   & 1250  & 73    & 75    & 13.3  & 31    &  9189 & 83   \\\\\n",
       "\t  2097 & 1915  &  695  & 34    & 61    & 2793  &  166  &  6900 & 4200  & 617   &  781  & 67    & 75    & 14.4  & 20    &  8323 & 49   \\\\\n",
       "\t 10705 & 2453  & 1317  & 95    & 99    & 5217  &   83  & 19840 & 6510  & 630   & 2115  & 96    & 96    &  5.8  & 49    & 40386 & 99   \\\\\n",
       "\t  2989 & 1855  &  691  & 28    & 63    & 2988  & 1726  &  4990 & 3560  & 500   & 1250  & 75    & 75    & 18.1  & 28    &  4509 & 99   \\\\\n",
       "\\end{tabular}\n"
      ],
      "text/markdown": [
       "\n",
       "Apps | Accept | Enroll | Top10perc | Top25perc | F.Undergrad | P.Undergrad | Outstate | Room.Board | Books | Personal | PhD | Terminal | S.F.Ratio | perc.alumni | Expend | Grad.Rate | \n",
       "|---|---|---|---|---|---|---|---|---|---|---|---|---|---|---|---|---|---|---|---|---|---|---|---|---|---|---|---|---|---|---|---|---|---|---|---|---|---|---|---|---|---|---|---|---|---|---|---|---|---|---|---|---|---|---|---|---|---|---|---|---|\n",
       "|  1660 |  1232 |  721  | 23    | 52    |  2885 |  537  |  7440 | 3300  | 450   | 2200  | 70    |  78   | 18.1  | 12    |  7041 |  60   | \n",
       "|  2186 |  1924 |  512  | 16    | 29    |  2683 | 1227  | 12280 | 6450  | 750   | 1500  | 29    |  30   | 12.2  | 16    | 10527 |  56   | \n",
       "|  1428 |  1097 |  336  | 22    | 50    |  1036 |   99  | 11250 | 3750  | 400   | 1165  | 53    |  66   | 12.9  | 30    |  8735 |  54   | \n",
       "|   417 |   349 |  137  | 60    | 89    |   510 |   63  | 12960 | 5450  | 450   |  875  | 92    |  97   |  7.7  | 37    | 19016 |  59   | \n",
       "|   193 |   146 |   55  | 16    | 44    |   249 |  869  |  7560 | 4120  | 800   | 1500  | 76    |  72   | 11.9  |  2    | 10922 |  15   | \n",
       "|   587 |   479 |  158  | 38    | 62    |   678 |   41  | 13500 | 3335  | 500   |  675  | 67    |  73   |  9.4  | 11    |  9727 |  55   | \n",
       "|   353 |   340 |  103  | 17    | 45    |   416 |  230  | 13290 | 5720  | 500   | 1500  | 90    |  93   | 11.5  | 26    |  8861 |  63   | \n",
       "|  1899 |  1720 |  489  | 37    | 68    |  1594 |   32  | 13868 | 4826  | 450   |  850  | 89    | 100   | 13.7  | 37    | 11487 |  73   | \n",
       "|  1038 |   839 |  227  | 30    | 63    |   973 |  306  | 15595 | 4400  | 300   |  500  | 79    |  84   | 11.3  | 23    | 11644 |  80   | \n",
       "|   582 |   498 |  172  | 21    | 44    |   799 |   78  | 10468 | 3380  | 660   | 1800  | 40    |  41   | 11.5  | 15    |  8991 |  52   | \n",
       "|  1732 |  1425 |  472  | 37    | 75    |  1830 |  110  | 16548 | 5406  | 500   |  600  | 82    |  88   | 11.3  | 31    | 10932 |  73   | \n",
       "|  2652 |  1900 |  484  | 44    | 77    |  1707 |   44  | 17080 | 4440  | 400   |  600  | 73    |  91   |  9.9  | 41    | 11711 |  76   | \n",
       "|  1179 |   780 |  290  | 38    | 64    |  1130 |  638  |  9690 | 4785  | 600   | 1000  | 60    |  84   | 13.3  | 21    |  7940 |  74   | \n",
       "|  1267 |  1080 |  385  | 44    | 73    |  1306 |   28  | 12572 | 4552  | 400   |  400  | 79    |  87   | 15.3  | 32    |  9305 |  68   | \n",
       "|   494 |   313 |  157  | 23    | 46    |  1317 | 1235  |  8352 | 3640  | 650   | 2449  | 36    |  69   | 11.1  | 26    |  8127 |  55   | \n",
       "|  1420 |  1093 |  220  |  9    | 22    |  1018 |  287  |  8700 | 4780  | 450   | 1400  | 78    |  84   | 14.7  | 19    |  7355 |  69   | \n",
       "|  4302 |   992 |  418  | 83    | 96    |  1593 |    5  | 19760 | 5300  | 660   | 1598  | 93    |  98   |  8.4  | 63    | 21424 | 100   | \n",
       "|  1216 |   908 |  423  | 19    | 40    |  1819 |  281  | 10100 | 3520  | 550   | 1100  | 48    |  61   | 12.1  | 14    |  7994 |  59   | \n",
       "|  1130 |   704 |  322  | 14    | 23    |  1586 |  326  |  9996 | 3090  | 900   | 1320  | 62    |  66   | 11.5  | 18    | 10908 |  46   | \n",
       "|  3540 |  2001 | 1016  | 24    | 54    |  4190 | 1512  |  5130 | 3592  | 500   | 2000  | 60    |  62   | 23.1  |  5    |  4010 |  34   | \n",
       "|   713 |   661 |  252  | 25    | 44    |   712 |   23  | 15476 | 3336  | 400   | 1100  | 69    |  82   | 11.3  | 35    | 42926 |  48   | \n",
       "|  7313 |  4664 | 1910  | 20    | 63    |  9940 | 1035  |  6806 | 2540  |  96   | 2000  | 83    |  96   | 18.3  | 14    |  5854 |  70   | \n",
       "|   619 |   516 |  219  | 20    | 51    |  1251 |  767  | 11208 | 4124  | 350   | 1615  | 55    |  65   | 12.7  | 25    |  6584 |  65   | \n",
       "| 12809 | 10308 | 3761  | 24    | 49    | 22593 | 7585  |  7434 | 4850  | 700   | 2100  | 88    |  93   | 18.9  |  5    |  4602 |  48   | \n",
       "|   708 |   334 |  166  | 46    | 74    |   530 |  182  |  8644 | 3922  | 500   |  800  | 79    |  88   | 12.6  | 24    | 14579 |  54   | \n",
       "|  1734 |  1729 |  951  | 12    | 52    |  3602 |  939  |  3460 | 2650  | 450   | 1000  | 57    |  60   | 19.6  |  5    |  4739 |  48   | \n",
       "|  2135 |  1700 |  491  | 23    | 59    |  1708 |  689  | 12000 | 5920  | 500   |  500  | 93    |  93   | 13.8  | 30    |  7100 |  88   | \n",
       "|  7548 |  6791 | 3070  | 25    | 57    | 16262 | 1716  |  6300 | 3933  | 600   | 1908  | 85    |  91   | 16.7  | 18    |  6642 |  69   | \n",
       "|   662 |   513 |  257  | 12    | 30    |  2074 |  726  | 11902 | 4372  | 540   |  950  | 65    |  65   | 12.8  | 31    |  7836 |  58   | \n",
       "|  1879 |  1658 |  497  | 36    | 69    |  1950 |   38  | 13353 | 4173  | 540   |  821  | 78    |  83   | 12.7  | 40    |  9220 |  71   | \n",
       "| ... | ... | ... | ... | ... | ... | ... | ... | ... | ... | ... | ... | ... | ... | ... | ... | ... | \n",
       "|  3100 | 2150  |  825  |  3    | 20    | 3234  |  941  |  5542 | 3788  | 500   | 1300  | 75    | 79    | 15.7  | 20    |  4222 | 65    | \n",
       "|   662 |  553  |  184  | 20    | 43    |  665  |   37  | 10720 | 4050  | 600   | 1650  | 66    | 70    | 12.5  | 20    |  7925 | 62    | \n",
       "|   996 |  866  |  377  | 29    | 58    | 1411  |   72  | 12065 | 3615  | 430   |  685  | 62    | 78    | 12.5  | 41    |  8596 | 80    | \n",
       "|   917 |  720  |  213  | 21    | 60    |  979  |  743  |  8820 | 4050  | 600   | 2025  | 68    | 83    | 10.5  | 34    |  7170 | 50    | \n",
       "|   950 |  713  |  351  | 42    | 72    | 1276  |    9  | 14320 | 5304  | 490   | 1410  | 77    | 77    | 14.9  | 17    |  8837 | 87    | \n",
       "|  1432 |  920  |  548  | 56    | 84    | 2200  |   56  | 11480 | 4200  | 530   | 1400  | 81    | 83    | 12.7  | 40    | 11916 | 85    | \n",
       "|  1738 | 1373  |  417  | 21    | 55    | 1335  |   30  | 18460 | 5970  | 700   |  850  | 92    | 96    | 13.2  | 41    | 22704 | 71    | \n",
       "|   903 |  755  |  213  | 15    | 49    |  971  |  305  | 10500 | 4545  | 600   |  600  | 66    | 71    | 14.1  | 27    |  7494 | 72    | \n",
       "|  1861 |  998  |  359  | 45    | 77    | 1220  |   46  | 16670 | 4900  | 750   |  800  | 80    | 83    | 10.5  | 51    | 13198 | 72    | \n",
       "|  1681 | 1069  |  344  | 35    | 63    | 1235  |   30  | 16249 | 5699  | 500   | 1998  | 84    | 92    | 13.6  | 29    | 11778 | 52    | \n",
       "|  1121 |  926  |  372  | 43    | 70    | 1270  |  160  | 12660 | 4500  | 678   | 2424  | 80    | 80    | 16.9  | 20    |  8328 | 80    | \n",
       "|  2139 | 1492  |  502  | 24    | 64    | 2186  | 2171  | 12350 | 5370  | 500   | 1350  | 88    | 86    | 12.6  | 19    |  9603 | 63    | \n",
       "|  1631 | 1431  |  434  | 15    | 36    | 1803  |  603  | 11150 | 5130  | 550   | 1260  | 78    | 92    | 13.3  | 24    |  8543 | 67    | \n",
       "|  1658 | 1327  |  395  | 49    | 80    | 1595  |  159  | 14800 | 4620  | 400   |  790  | 91    | 94    | 13.3  | 37    | 10779 | 68    | \n",
       "|   663 |  547  |  315  | 32    | 67    | 1279  |   75  | 10060 | 2970  | 500   | 2600  | 74    | 80    | 11.2  | 19    |  7885 | 59    | \n",
       "|   469 |  435  |  227  | 17    | 39    |  851  |  120  | 10535 | 4365  | 550   | 3700  | 39    | 66    | 12.9  | 16    |  7438 | 52    | \n",
       "|  4186 | 1245  |  526  | 81    | 96    | 1988  |   29  | 19629 | 5790  | 500   | 1200  | 94    | 99    |  9.0  | 64    | 22014 | 99    | \n",
       "|   167 |  130  |   46  | 16    | 50    |  199  |  676  | 11428 | 5084  | 450   |  475  | 67    | 76    |  8.3  | 43    | 10291 | 67    | \n",
       "|  1239 | 1017  |  383  | 10    | 34    | 1207  |  157  |  7820 | 3400  | 550   | 1550  | 69    | 81    | 13.9  |  8    |  7264 | 91    | \n",
       "|  3325 | 2047  | 1301  | 20    | 45    | 5800  |  872  |  4200 | 2700  | 300   | 1200  | 53    | 60    | 20.2  | 18    |  5318 | 58    | \n",
       "|  2320 | 1805  |  769  | 24    | 61    | 3395  |  670  |  6400 | 3392  | 580   | 2150  | 71    | 80    | 12.8  | 26    |  6729 | 59    | \n",
       "|   152 |  128  |   75  | 17    | 41    |  282  |   22  |  9100 | 3700  | 500   | 1400  | 48    | 48    |  8.5  | 26    |  8960 | 50    | \n",
       "|  1979 | 1739  |  575  | 42    | 68    | 1980  |  144  | 15948 | 4404  | 400   |  800  | 82    | 95    | 12.8  | 29    | 10414 | 78    | \n",
       "|  1501 |  935  |  273  | 51    | 83    | 1059  |   34  | 12680 | 4150  | 605   | 1440  | 91    | 92    | 15.3  | 42    |  7875 | 75    | \n",
       "|  2768 | 2314  |  682  | 49    | 86    | 2802  |   86  | 15884 | 5370  | 530   |  730  | 92    | 94    | 15.2  | 34    | 10774 | 82    | \n",
       "|  2197 | 1515  |  543  |  4    | 26    | 3089  | 2029  |  6797 | 3900  | 500   | 1200  | 60    | 60    | 21.0  | 14    |  4469 | 40    | \n",
       "|  1959 | 1805  |  695  | 24    | 47    | 2849  | 1107  | 11520 | 4960  | 600   | 1250  | 73    | 75    | 13.3  | 31    |  9189 | 83    | \n",
       "|  2097 | 1915  |  695  | 34    | 61    | 2793  |  166  |  6900 | 4200  | 617   |  781  | 67    | 75    | 14.4  | 20    |  8323 | 49    | \n",
       "| 10705 | 2453  | 1317  | 95    | 99    | 5217  |   83  | 19840 | 6510  | 630   | 2115  | 96    | 96    |  5.8  | 49    | 40386 | 99    | \n",
       "|  2989 | 1855  |  691  | 28    | 63    | 2988  | 1726  |  4990 | 3560  | 500   | 1250  | 75    | 75    | 18.1  | 28    |  4509 | 99    | \n",
       "\n",
       "\n"
      ],
      "text/plain": [
       "    Apps  Accept Enroll Top10perc Top25perc F.Undergrad P.Undergrad Outstate\n",
       "1    1660  1232   721   23        52         2885        537         7440   \n",
       "2    2186  1924   512   16        29         2683       1227        12280   \n",
       "3    1428  1097   336   22        50         1036         99        11250   \n",
       "4     417   349   137   60        89          510         63        12960   \n",
       "5     193   146    55   16        44          249        869         7560   \n",
       "6     587   479   158   38        62          678         41        13500   \n",
       "7     353   340   103   17        45          416        230        13290   \n",
       "8    1899  1720   489   37        68         1594         32        13868   \n",
       "9    1038   839   227   30        63          973        306        15595   \n",
       "10    582   498   172   21        44          799         78        10468   \n",
       "11   1732  1425   472   37        75         1830        110        16548   \n",
       "12   2652  1900   484   44        77         1707         44        17080   \n",
       "13   1179   780   290   38        64         1130        638         9690   \n",
       "14   1267  1080   385   44        73         1306         28        12572   \n",
       "15    494   313   157   23        46         1317       1235         8352   \n",
       "16   1420  1093   220    9        22         1018        287         8700   \n",
       "17   4302   992   418   83        96         1593          5        19760   \n",
       "18   1216   908   423   19        40         1819        281        10100   \n",
       "19   1130   704   322   14        23         1586        326         9996   \n",
       "20   3540  2001  1016   24        54         4190       1512         5130   \n",
       "21    713   661   252   25        44          712         23        15476   \n",
       "22   7313  4664  1910   20        63         9940       1035         6806   \n",
       "23    619   516   219   20        51         1251        767        11208   \n",
       "24  12809 10308  3761   24        49        22593       7585         7434   \n",
       "25    708   334   166   46        74          530        182         8644   \n",
       "26   1734  1729   951   12        52         3602        939         3460   \n",
       "27   2135  1700   491   23        59         1708        689        12000   \n",
       "28   7548  6791  3070   25        57        16262       1716         6300   \n",
       "29    662   513   257   12        30         2074        726        11902   \n",
       "30   1879  1658   497   36        69         1950         38        13353   \n",
       "... ...   ...    ...    ...       ...       ...         ...         ...     \n",
       "748  3100 2150    825    3        20        3234         941         5542   \n",
       "749   662  553    184   20        43         665          37        10720   \n",
       "750   996  866    377   29        58        1411          72        12065   \n",
       "751   917  720    213   21        60         979         743         8820   \n",
       "752   950  713    351   42        72        1276           9        14320   \n",
       "753  1432  920    548   56        84        2200          56        11480   \n",
       "754  1738 1373    417   21        55        1335          30        18460   \n",
       "755   903  755    213   15        49         971         305        10500   \n",
       "756  1861  998    359   45        77        1220          46        16670   \n",
       "757  1681 1069    344   35        63        1235          30        16249   \n",
       "758  1121  926    372   43        70        1270         160        12660   \n",
       "759  2139 1492    502   24        64        2186        2171        12350   \n",
       "760  1631 1431    434   15        36        1803         603        11150   \n",
       "761  1658 1327    395   49        80        1595         159        14800   \n",
       "762   663  547    315   32        67        1279          75        10060   \n",
       "763   469  435    227   17        39         851         120        10535   \n",
       "764  4186 1245    526   81        96        1988          29        19629   \n",
       "765   167  130     46   16        50         199         676        11428   \n",
       "766  1239 1017    383   10        34        1207         157         7820   \n",
       "767  3325 2047   1301   20        45        5800         872         4200   \n",
       "768  2320 1805    769   24        61        3395         670         6400   \n",
       "769   152  128     75   17        41         282          22         9100   \n",
       "770  1979 1739    575   42        68        1980         144        15948   \n",
       "771  1501  935    273   51        83        1059          34        12680   \n",
       "772  2768 2314    682   49        86        2802          86        15884   \n",
       "773  2197 1515    543    4        26        3089        2029         6797   \n",
       "774  1959 1805    695   24        47        2849        1107        11520   \n",
       "775  2097 1915    695   34        61        2793         166         6900   \n",
       "776 10705 2453   1317   95        99        5217          83        19840   \n",
       "777  2989 1855    691   28        63        2988        1726         4990   \n",
       "    Room.Board Books Personal PhD Terminal S.F.Ratio perc.alumni Expend\n",
       "1   3300       450   2200     70   78      18.1      12           7041 \n",
       "2   6450       750   1500     29   30      12.2      16          10527 \n",
       "3   3750       400   1165     53   66      12.9      30           8735 \n",
       "4   5450       450    875     92   97       7.7      37          19016 \n",
       "5   4120       800   1500     76   72      11.9       2          10922 \n",
       "6   3335       500    675     67   73       9.4      11           9727 \n",
       "7   5720       500   1500     90   93      11.5      26           8861 \n",
       "8   4826       450    850     89  100      13.7      37          11487 \n",
       "9   4400       300    500     79   84      11.3      23          11644 \n",
       "10  3380       660   1800     40   41      11.5      15           8991 \n",
       "11  5406       500    600     82   88      11.3      31          10932 \n",
       "12  4440       400    600     73   91       9.9      41          11711 \n",
       "13  4785       600   1000     60   84      13.3      21           7940 \n",
       "14  4552       400    400     79   87      15.3      32           9305 \n",
       "15  3640       650   2449     36   69      11.1      26           8127 \n",
       "16  4780       450   1400     78   84      14.7      19           7355 \n",
       "17  5300       660   1598     93   98       8.4      63          21424 \n",
       "18  3520       550   1100     48   61      12.1      14           7994 \n",
       "19  3090       900   1320     62   66      11.5      18          10908 \n",
       "20  3592       500   2000     60   62      23.1       5           4010 \n",
       "21  3336       400   1100     69   82      11.3      35          42926 \n",
       "22  2540        96   2000     83   96      18.3      14           5854 \n",
       "23  4124       350   1615     55   65      12.7      25           6584 \n",
       "24  4850       700   2100     88   93      18.9       5           4602 \n",
       "25  3922       500    800     79   88      12.6      24          14579 \n",
       "26  2650       450   1000     57   60      19.6       5           4739 \n",
       "27  5920       500    500     93   93      13.8      30           7100 \n",
       "28  3933       600   1908     85   91      16.7      18           6642 \n",
       "29  4372       540    950     65   65      12.8      31           7836 \n",
       "30  4173       540    821     78   83      12.7      40           9220 \n",
       "... ...        ...   ...      ... ...      ...       ...         ...   \n",
       "748 3788       500   1300     75  79       15.7      20           4222 \n",
       "749 4050       600   1650     66  70       12.5      20           7925 \n",
       "750 3615       430    685     62  78       12.5      41           8596 \n",
       "751 4050       600   2025     68  83       10.5      34           7170 \n",
       "752 5304       490   1410     77  77       14.9      17           8837 \n",
       "753 4200       530   1400     81  83       12.7      40          11916 \n",
       "754 5970       700    850     92  96       13.2      41          22704 \n",
       "755 4545       600    600     66  71       14.1      27           7494 \n",
       "756 4900       750    800     80  83       10.5      51          13198 \n",
       "757 5699       500   1998     84  92       13.6      29          11778 \n",
       "758 4500       678   2424     80  80       16.9      20           8328 \n",
       "759 5370       500   1350     88  86       12.6      19           9603 \n",
       "760 5130       550   1260     78  92       13.3      24           8543 \n",
       "761 4620       400    790     91  94       13.3      37          10779 \n",
       "762 2970       500   2600     74  80       11.2      19           7885 \n",
       "763 4365       550   3700     39  66       12.9      16           7438 \n",
       "764 5790       500   1200     94  99        9.0      64          22014 \n",
       "765 5084       450    475     67  76        8.3      43          10291 \n",
       "766 3400       550   1550     69  81       13.9       8           7264 \n",
       "767 2700       300   1200     53  60       20.2      18           5318 \n",
       "768 3392       580   2150     71  80       12.8      26           6729 \n",
       "769 3700       500   1400     48  48        8.5      26           8960 \n",
       "770 4404       400    800     82  95       12.8      29          10414 \n",
       "771 4150       605   1440     91  92       15.3      42           7875 \n",
       "772 5370       530    730     92  94       15.2      34          10774 \n",
       "773 3900       500   1200     60  60       21.0      14           4469 \n",
       "774 4960       600   1250     73  75       13.3      31           9189 \n",
       "775 4200       617    781     67  75       14.4      20           8323 \n",
       "776 6510       630   2115     96  96        5.8      49          40386 \n",
       "777 3560       500   1250     75  75       18.1      28           4509 \n",
       "    Grad.Rate\n",
       "1    60      \n",
       "2    56      \n",
       "3    54      \n",
       "4    59      \n",
       "5    15      \n",
       "6    55      \n",
       "7    63      \n",
       "8    73      \n",
       "9    80      \n",
       "10   52      \n",
       "11   73      \n",
       "12   76      \n",
       "13   74      \n",
       "14   68      \n",
       "15   55      \n",
       "16   69      \n",
       "17  100      \n",
       "18   59      \n",
       "19   46      \n",
       "20   34      \n",
       "21   48      \n",
       "22   70      \n",
       "23   65      \n",
       "24   48      \n",
       "25   54      \n",
       "26   48      \n",
       "27   88      \n",
       "28   69      \n",
       "29   58      \n",
       "30   71      \n",
       "... ...      \n",
       "748 65       \n",
       "749 62       \n",
       "750 80       \n",
       "751 50       \n",
       "752 87       \n",
       "753 85       \n",
       "754 71       \n",
       "755 72       \n",
       "756 72       \n",
       "757 52       \n",
       "758 80       \n",
       "759 63       \n",
       "760 67       \n",
       "761 68       \n",
       "762 59       \n",
       "763 52       \n",
       "764 99       \n",
       "765 67       \n",
       "766 91       \n",
       "767 58       \n",
       "768 59       \n",
       "769 50       \n",
       "770 78       \n",
       "771 75       \n",
       "772 82       \n",
       "773 40       \n",
       "774 83       \n",
       "775 49       \n",
       "776 99       \n",
       "777 99       "
      ]
     },
     "metadata": {},
     "output_type": "display_data"
    }
   ],
   "source": [
    "college %>%\n",
    "select_if(is.numeric)"
   ]
  },
  {
   "cell_type": "code",
   "execution_count": 60,
   "metadata": {},
   "outputs": [
    {
     "name": "stderr",
     "output_type": "stream",
     "text": [
      "No id variables; using all as measure variables\n"
     ]
    },
    {
     "data": {},
     "metadata": {},
     "output_type": "display_data"
    },
    {
     "data": {
      "image/png": "[encoded data removed]",
      "text/plain": [
       "plot without title"
      ]
     },
     "metadata": {},
     "output_type": "display_data"
    }
   ],
   "source": [
    "ggplot(melt(select_if(college, is.numeric)), aes(value)) +\n",
    "geom_histogram(bins = 100) +\n",
    "facet_wrap(~ variable, ncol = 3, scales = 'free')"
   ]
  },
  {
   "cell_type": "markdown",
   "metadata": {},
   "source": [
    "# 9"
   ]
  },
  {
   "cell_type": "code",
   "execution_count": 20,
   "metadata": {
    "collapsed": true
   },
   "outputs": [],
   "source": [
    "Auto <- read.table('Auto.data', header = TRUE, na.strings = '?')"
   ]
  },
  {
   "cell_type": "code",
   "execution_count": 21,
   "metadata": {
    "collapsed": true
   },
   "outputs": [],
   "source": [
    "Auto <- na.omit(Auto)"
   ]
  },
  {
   "cell_type": "code",
   "execution_count": 22,
   "metadata": {},
   "outputs": [
    {
     "name": "stdout",
     "output_type": "stream",
     "text": [
      "'data.frame':\t392 obs. of  9 variables:\n",
      " $ mpg         : num  18 15 18 16 17 15 14 14 14 15 ...\n",
      " $ cylinders   : int  8 8 8 8 8 8 8 8 8 8 ...\n",
      " $ displacement: num  307 350 318 304 302 429 454 440 455 390 ...\n",
      " $ horsepower  : num  130 165 150 150 140 198 220 215 225 190 ...\n",
      " $ weight      : num  3504 3693 3436 3433 3449 ...\n",
      " $ acceleration: num  12 11.5 11 12 10.5 10 9 8.5 10 8.5 ...\n",
      " $ year        : int  70 70 70 70 70 70 70 70 70 70 ...\n",
      " $ origin      : int  1 1 1 1 1 1 1 1 1 1 ...\n",
      " $ name        : Factor w/ 304 levels \"amc ambassador brougham\",..: 49 36 231 14 161 141 54 223 241 2 ...\n",
      " - attr(*, \"na.action\")=Class 'omit'  Named int [1:5] 33 127 331 337 355\n",
      "  .. ..- attr(*, \"names\")= chr [1:5] \"33\" \"127\" \"331\" \"337\" ...\n"
     ]
    }
   ],
   "source": [
    "str(Auto)"
   ]
  },
  {
   "cell_type": "code",
   "execution_count": 23,
   "metadata": {
    "scrolled": false
   },
   "outputs": [
    {
     "data": {
      "text/html": [
       "<table>\n",
       "<thead><tr><th scope=col>mpg</th><th scope=col>cylinders</th><th scope=col>displacement</th><th scope=col>horsepower</th><th scope=col>weight</th><th scope=col>acceleration</th></tr></thead>\n",
       "<tbody>\n",
       "\t<tr><td> 9.0</td><td>3   </td><td> 68 </td><td> 46 </td><td>1613</td><td> 8.0</td></tr>\n",
       "\t<tr><td>46.6</td><td>8   </td><td>455 </td><td>230 </td><td>5140</td><td>24.8</td></tr>\n",
       "</tbody>\n",
       "</table>\n"
      ],
      "text/latex": [
       "\\begin{tabular}{llllll}\n",
       " mpg & cylinders & displacement & horsepower & weight & acceleration\\\\\n",
       "\\hline\n",
       "\t  9.0 & 3    &  68  &  46  & 1613 &  8.0\\\\\n",
       "\t 46.6 & 8    & 455  & 230  & 5140 & 24.8\\\\\n",
       "\\end{tabular}\n"
      ],
      "text/markdown": [
       "\n",
       "mpg | cylinders | displacement | horsepower | weight | acceleration | \n",
       "|---|---|\n",
       "|  9.0 | 3    |  68  |  46  | 1613 |  8.0 | \n",
       "| 46.6 | 8    | 455  | 230  | 5140 | 24.8 | \n",
       "\n",
       "\n"
      ],
      "text/plain": [
       "     mpg  cylinders displacement horsepower weight acceleration\n",
       "[1,]  9.0 3          68           46        1613    8.0        \n",
       "[2,] 46.6 8         455          230        5140   24.8        "
      ]
     },
     "metadata": {},
     "output_type": "display_data"
    }
   ],
   "source": [
    "sapply(Auto[, 1:6], range)"
   ]
  },
  {
   "cell_type": "code",
   "execution_count": 47,
   "metadata": {},
   "outputs": [],
   "source": [
    "range_mean_and_sd <- function(x) {\n",
    "    return(c(range = range(x), mean = mean(x), sd = sd(x)))\n",
    "}"
   ]
  },
  {
   "cell_type": "code",
   "execution_count": 48,
   "metadata": {
    "scrolled": false
   },
   "outputs": [
    {
     "data": {
      "text/html": [
       "<table>\n",
       "<thead><tr><th></th><th scope=col>mpg</th><th scope=col>cylinders</th><th scope=col>displacement</th><th scope=col>horsepower</th><th scope=col>weight</th><th scope=col>acceleration</th></tr></thead>\n",
       "<tbody>\n",
       "\t<tr><th scope=row>range1</th><td> 9.000000</td><td>3.000000 </td><td> 68.000  </td><td> 46.00000</td><td>1613.0000</td><td> 8.000000</td></tr>\n",
       "\t<tr><th scope=row>range2</th><td>46.600000</td><td>8.000000 </td><td>455.000  </td><td>230.00000</td><td>5140.0000</td><td>24.800000</td></tr>\n",
       "\t<tr><th scope=row>mean</th><td>23.445918</td><td>5.471939 </td><td>194.412  </td><td>104.46939</td><td>2977.5842</td><td>15.541327</td></tr>\n",
       "\t<tr><th scope=row>sd</th><td> 7.805007</td><td>1.705783 </td><td>104.644  </td><td> 38.49116</td><td> 849.4026</td><td> 2.758864</td></tr>\n",
       "</tbody>\n",
       "</table>\n"
      ],
      "text/latex": [
       "\\begin{tabular}{r|llllll}\n",
       "  & mpg & cylinders & displacement & horsepower & weight & acceleration\\\\\n",
       "\\hline\n",
       "\trange1 &  9.000000 & 3.000000  &  68.000   &  46.00000 & 1613.0000 &  8.000000\\\\\n",
       "\trange2 & 46.600000 & 8.000000  & 455.000   & 230.00000 & 5140.0000 & 24.800000\\\\\n",
       "\tmean & 23.445918 & 5.471939  & 194.412   & 104.46939 & 2977.5842 & 15.541327\\\\\n",
       "\tsd &  7.805007 & 1.705783  & 104.644   &  38.49116 &  849.4026 &  2.758864\\\\\n",
       "\\end{tabular}\n"
      ],
      "text/markdown": [
       "\n",
       "| <!--/--> | mpg | cylinders | displacement | horsepower | weight | acceleration | \n",
       "|---|---|---|---|\n",
       "| range1 |  9.000000 | 3.000000  |  68.000   |  46.00000 | 1613.0000 |  8.000000 | \n",
       "| range2 | 46.600000 | 8.000000  | 455.000   | 230.00000 | 5140.0000 | 24.800000 | \n",
       "| mean | 23.445918 | 5.471939  | 194.412   | 104.46939 | 2977.5842 | 15.541327 | \n",
       "| sd |  7.805007 | 1.705783  | 104.644   |  38.49116 |  849.4026 |  2.758864 | \n",
       "\n",
       "\n"
      ],
      "text/plain": [
       "       mpg       cylinders displacement horsepower weight    acceleration\n",
       "range1  9.000000 3.000000   68.000       46.00000  1613.0000  8.000000   \n",
       "range2 46.600000 8.000000  455.000      230.00000  5140.0000 24.800000   \n",
       "mean   23.445918 5.471939  194.412      104.46939  2977.5842 15.541327   \n",
       "sd      7.805007 1.705783  104.644       38.49116   849.4026  2.758864   "
      ]
     },
     "metadata": {},
     "output_type": "display_data"
    }
   ],
   "source": [
    "sapply(Auto[, 1:6], range_mean_and_sd)"
   ]
  },
  {
   "cell_type": "code",
   "execution_count": 49,
   "metadata": {
    "scrolled": true
   },
   "outputs": [
    {
     "data": {
      "text/html": [
       "<table>\n",
       "<thead><tr><th></th><th scope=col>mpg</th><th scope=col>cylinders</th><th scope=col>displacement</th><th scope=col>horsepower</th><th scope=col>weight</th><th scope=col>acceleration</th></tr></thead>\n",
       "<tbody>\n",
       "\t<tr><th scope=row>range1</th><td>11.000000</td><td>3.000000 </td><td> 68.00000</td><td> 46.00000</td><td>1649.0000</td><td> 8.500000</td></tr>\n",
       "\t<tr><th scope=row>range2</th><td>46.600000</td><td>8.000000 </td><td>455.00000</td><td>230.00000</td><td>4997.0000</td><td>24.800000</td></tr>\n",
       "\t<tr><th scope=row>mean</th><td>24.404430</td><td>5.373418 </td><td>187.24051</td><td>100.72152</td><td>2935.9715</td><td>15.726899</td></tr>\n",
       "\t<tr><th scope=row>sd</th><td> 7.867283</td><td>1.654179 </td><td> 99.67837</td><td> 35.70885</td><td> 811.3002</td><td> 2.693721</td></tr>\n",
       "</tbody>\n",
       "</table>\n"
      ],
      "text/latex": [
       "\\begin{tabular}{r|llllll}\n",
       "  & mpg & cylinders & displacement & horsepower & weight & acceleration\\\\\n",
       "\\hline\n",
       "\trange1 & 11.000000 & 3.000000  &  68.00000 &  46.00000 & 1649.0000 &  8.500000\\\\\n",
       "\trange2 & 46.600000 & 8.000000  & 455.00000 & 230.00000 & 4997.0000 & 24.800000\\\\\n",
       "\tmean & 24.404430 & 5.373418  & 187.24051 & 100.72152 & 2935.9715 & 15.726899\\\\\n",
       "\tsd &  7.867283 & 1.654179  &  99.67837 &  35.70885 &  811.3002 &  2.693721\\\\\n",
       "\\end{tabular}\n"
      ],
      "text/markdown": [
       "\n",
       "| <!--/--> | mpg | cylinders | displacement | horsepower | weight | acceleration | \n",
       "|---|---|---|---|\n",
       "| range1 | 11.000000 | 3.000000  |  68.00000 |  46.00000 | 1649.0000 |  8.500000 | \n",
       "| range2 | 46.600000 | 8.000000  | 455.00000 | 230.00000 | 4997.0000 | 24.800000 | \n",
       "| mean | 24.404430 | 5.373418  | 187.24051 | 100.72152 | 2935.9715 | 15.726899 | \n",
       "| sd |  7.867283 | 1.654179  |  99.67837 |  35.70885 |  811.3002 |  2.693721 | \n",
       "\n",
       "\n"
      ],
      "text/plain": [
       "       mpg       cylinders displacement horsepower weight    acceleration\n",
       "range1 11.000000 3.000000   68.00000     46.00000  1649.0000  8.500000   \n",
       "range2 46.600000 8.000000  455.00000    230.00000  4997.0000 24.800000   \n",
       "mean   24.404430 5.373418  187.24051    100.72152  2935.9715 15.726899   \n",
       "sd      7.867283 1.654179   99.67837     35.70885   811.3002  2.693721   "
      ]
     },
     "metadata": {},
     "output_type": "display_data"
    }
   ],
   "source": [
    "sapply(Auto[-(10:85), 1:6], range_mean_and_sd)"
   ]
  },
  {
   "cell_type": "code",
   "execution_count": 51,
   "metadata": {
    "scrolled": true
   },
   "outputs": [
    {
     "data": {
      "image/png": "[encoded data removed]",
      "text/plain": [
       "plot without title"
      ]
     },
     "metadata": {},
     "output_type": "display_data"
    }
   ],
   "source": [
    "pairs(Auto[, 1:7])"
   ]
  },
  {
   "cell_type": "markdown",
   "metadata": {},
   "source": [
    "# 10"
   ]
  },
  {
   "cell_type": "code",
   "execution_count": 52,
   "metadata": {
    "scrolled": true
   },
   "outputs": [
    {
     "name": "stderr",
     "output_type": "stream",
     "text": [
      "Warning message:\n",
      "\"package 'MASS' was built under R version 3.4.3\"\n",
      "Attaching package: 'MASS'\n",
      "\n",
      "The following object is masked from 'package:dplyr':\n",
      "\n",
      "    select\n",
      "\n"
     ]
    }
   ],
   "source": [
    "library(MASS)"
   ]
  },
  {
   "cell_type": "code",
   "execution_count": 54,
   "metadata": {
    "scrolled": true
   },
   "outputs": [
    {
     "data": {
      "text/html": [
       "<table>\n",
       "<thead><tr><th scope=col>crim</th><th scope=col>zn</th><th scope=col>indus</th><th scope=col>chas</th><th scope=col>nox</th><th scope=col>rm</th><th scope=col>age</th><th scope=col>dis</th><th scope=col>rad</th><th scope=col>tax</th><th scope=col>ptratio</th><th scope=col>black</th><th scope=col>lstat</th><th scope=col>medv</th></tr></thead>\n",
       "<tbody>\n",
       "\t<tr><td>0.00632</td><td>18     </td><td>2.31   </td><td>0      </td><td>0.538  </td><td>6.575  </td><td>65.2   </td><td>4.0900 </td><td>1      </td><td>296    </td><td>15.3   </td><td>396.90 </td><td>4.98   </td><td>24.0   </td></tr>\n",
       "\t<tr><td>0.02731</td><td> 0     </td><td>7.07   </td><td>0      </td><td>0.469  </td><td>6.421  </td><td>78.9   </td><td>4.9671 </td><td>2      </td><td>242    </td><td>17.8   </td><td>396.90 </td><td>9.14   </td><td>21.6   </td></tr>\n",
       "\t<tr><td>0.02729</td><td> 0     </td><td>7.07   </td><td>0      </td><td>0.469  </td><td>7.185  </td><td>61.1   </td><td>4.9671 </td><td>2      </td><td>242    </td><td>17.8   </td><td>392.83 </td><td>4.03   </td><td>34.7   </td></tr>\n",
       "\t<tr><td>0.03237</td><td> 0     </td><td>2.18   </td><td>0      </td><td>0.458  </td><td>6.998  </td><td>45.8   </td><td>6.0622 </td><td>3      </td><td>222    </td><td>18.7   </td><td>394.63 </td><td>2.94   </td><td>33.4   </td></tr>\n",
       "\t<tr><td>0.06905</td><td> 0     </td><td>2.18   </td><td>0      </td><td>0.458  </td><td>7.147  </td><td>54.2   </td><td>6.0622 </td><td>3      </td><td>222    </td><td>18.7   </td><td>396.90 </td><td>5.33   </td><td>36.2   </td></tr>\n",
       "\t<tr><td>0.02985</td><td> 0     </td><td>2.18   </td><td>0      </td><td>0.458  </td><td>6.430  </td><td>58.7   </td><td>6.0622 </td><td>3      </td><td>222    </td><td>18.7   </td><td>394.12 </td><td>5.21   </td><td>28.7   </td></tr>\n",
       "</tbody>\n",
       "</table>\n"
      ],
      "text/latex": [
       "\\begin{tabular}{r|llllllllllllll}\n",
       " crim & zn & indus & chas & nox & rm & age & dis & rad & tax & ptratio & black & lstat & medv\\\\\n",
       "\\hline\n",
       "\t 0.00632 & 18      & 2.31    & 0       & 0.538   & 6.575   & 65.2    & 4.0900  & 1       & 296     & 15.3    & 396.90  & 4.98    & 24.0   \\\\\n",
       "\t 0.02731 &  0      & 7.07    & 0       & 0.469   & 6.421   & 78.9    & 4.9671  & 2       & 242     & 17.8    & 396.90  & 9.14    & 21.6   \\\\\n",
       "\t 0.02729 &  0      & 7.07    & 0       & 0.469   & 7.185   & 61.1    & 4.9671  & 2       & 242     & 17.8    & 392.83  & 4.03    & 34.7   \\\\\n",
       "\t 0.03237 &  0      & 2.18    & 0       & 0.458   & 6.998   & 45.8    & 6.0622  & 3       & 222     & 18.7    & 394.63  & 2.94    & 33.4   \\\\\n",
       "\t 0.06905 &  0      & 2.18    & 0       & 0.458   & 7.147   & 54.2    & 6.0622  & 3       & 222     & 18.7    & 396.90  & 5.33    & 36.2   \\\\\n",
       "\t 0.02985 &  0      & 2.18    & 0       & 0.458   & 6.430   & 58.7    & 6.0622  & 3       & 222     & 18.7    & 394.12  & 5.21    & 28.7   \\\\\n",
       "\\end{tabular}\n"
      ],
      "text/markdown": [
       "\n",
       "crim | zn | indus | chas | nox | rm | age | dis | rad | tax | ptratio | black | lstat | medv | \n",
       "|---|---|---|---|---|---|\n",
       "| 0.00632 | 18      | 2.31    | 0       | 0.538   | 6.575   | 65.2    | 4.0900  | 1       | 296     | 15.3    | 396.90  | 4.98    | 24.0    | \n",
       "| 0.02731 |  0      | 7.07    | 0       | 0.469   | 6.421   | 78.9    | 4.9671  | 2       | 242     | 17.8    | 396.90  | 9.14    | 21.6    | \n",
       "| 0.02729 |  0      | 7.07    | 0       | 0.469   | 7.185   | 61.1    | 4.9671  | 2       | 242     | 17.8    | 392.83  | 4.03    | 34.7    | \n",
       "| 0.03237 |  0      | 2.18    | 0       | 0.458   | 6.998   | 45.8    | 6.0622  | 3       | 222     | 18.7    | 394.63  | 2.94    | 33.4    | \n",
       "| 0.06905 |  0      | 2.18    | 0       | 0.458   | 7.147   | 54.2    | 6.0622  | 3       | 222     | 18.7    | 396.90  | 5.33    | 36.2    | \n",
       "| 0.02985 |  0      | 2.18    | 0       | 0.458   | 6.430   | 58.7    | 6.0622  | 3       | 222     | 18.7    | 394.12  | 5.21    | 28.7    | \n",
       "\n",
       "\n"
      ],
      "text/plain": [
       "  crim    zn indus chas nox   rm    age  dis    rad tax ptratio black  lstat\n",
       "1 0.00632 18 2.31  0    0.538 6.575 65.2 4.0900 1   296 15.3    396.90 4.98 \n",
       "2 0.02731  0 7.07  0    0.469 6.421 78.9 4.9671 2   242 17.8    396.90 9.14 \n",
       "3 0.02729  0 7.07  0    0.469 7.185 61.1 4.9671 2   242 17.8    392.83 4.03 \n",
       "4 0.03237  0 2.18  0    0.458 6.998 45.8 6.0622 3   222 18.7    394.63 2.94 \n",
       "5 0.06905  0 2.18  0    0.458 7.147 54.2 6.0622 3   222 18.7    396.90 5.33 \n",
       "6 0.02985  0 2.18  0    0.458 6.430 58.7 6.0622 3   222 18.7    394.12 5.21 \n",
       "  medv\n",
       "1 24.0\n",
       "2 21.6\n",
       "3 34.7\n",
       "4 33.4\n",
       "5 36.2\n",
       "6 28.7"
      ]
     },
     "metadata": {},
     "output_type": "display_data"
    }
   ],
   "source": [
    "head(Boston)"
   ]
  },
  {
   "cell_type": "code",
   "execution_count": 56,
   "metadata": {},
   "outputs": [
    {
     "data": {
      "text/html": [
       "<ol class=list-inline>\n",
       "\t<li>506</li>\n",
       "\t<li>14</li>\n",
       "</ol>\n"
      ],
      "text/latex": [
       "\\begin{enumerate*}\n",
       "\\item 506\n",
       "\\item 14\n",
       "\\end{enumerate*}\n"
      ],
      "text/markdown": [
       "1. 506\n",
       "2. 14\n",
       "\n",
       "\n"
      ],
      "text/plain": [
       "[1] 506  14"
      ]
     },
     "metadata": {},
     "output_type": "display_data"
    }
   ],
   "source": [
    "dim(Boston)"
   ]
  },
  {
   "cell_type": "code",
   "execution_count": 64,
   "metadata": {},
   "outputs": [
    {
     "data": {
      "text/html": [
       "0"
      ],
      "text/latex": [
       "0"
      ],
      "text/markdown": [
       "0"
      ],
      "text/plain": [
       "[1] 0"
      ]
     },
     "metadata": {},
     "output_type": "display_data"
    }
   ],
   "source": [
    "sum(!complete.cases(Boston))"
   ]
  },
  {
   "cell_type": "code",
   "execution_count": 65,
   "metadata": {
    "scrolled": true
   },
   "outputs": [
    {
     "name": "stdout",
     "output_type": "stream",
     "text": [
      "'data.frame':\t506 obs. of  14 variables:\n",
      " $ crim   : num  0.00632 0.02731 0.02729 0.03237 0.06905 ...\n",
      " $ zn     : num  18 0 0 0 0 0 12.5 12.5 12.5 12.5 ...\n",
      " $ indus  : num  2.31 7.07 7.07 2.18 2.18 2.18 7.87 7.87 7.87 7.87 ...\n",
      " $ chas   : int  0 0 0 0 0 0 0 0 0 0 ...\n",
      " $ nox    : num  0.538 0.469 0.469 0.458 0.458 0.458 0.524 0.524 0.524 0.524 ...\n",
      " $ rm     : num  6.58 6.42 7.18 7 7.15 ...\n",
      " $ age    : num  65.2 78.9 61.1 45.8 54.2 58.7 66.6 96.1 100 85.9 ...\n",
      " $ dis    : num  4.09 4.97 4.97 6.06 6.06 ...\n",
      " $ rad    : int  1 2 2 3 3 3 5 5 5 5 ...\n",
      " $ tax    : num  296 242 242 222 222 222 311 311 311 311 ...\n",
      " $ ptratio: num  15.3 17.8 17.8 18.7 18.7 18.7 15.2 15.2 15.2 15.2 ...\n",
      " $ black  : num  397 397 393 395 397 ...\n",
      " $ lstat  : num  4.98 9.14 4.03 2.94 5.33 ...\n",
      " $ medv   : num  24 21.6 34.7 33.4 36.2 28.7 22.9 27.1 16.5 18.9 ...\n"
     ]
    }
   ],
   "source": [
    "str(Boston)"
   ]
  },
  {
   "cell_type": "code",
   "execution_count": 66,
   "metadata": {
    "scrolled": true
   },
   "outputs": [
    {
     "data": {
      "image/png": "[encoded data removed]",
      "text/plain": [
       "plot without title"
      ]
     },
     "metadata": {},
     "output_type": "display_data"
    }
   ],
   "source": [
    "pairs(Boston)"
   ]
  },
  {
   "cell_type": "code",
   "execution_count": 74,
   "metadata": {
    "scrolled": true
   },
   "outputs": [
    {
     "data": {},
     "metadata": {},
     "output_type": "display_data"
    },
    {
     "data": {
      "image/png": "[encoded data removed]",
      "text/plain": [
       "plot without title"
      ]
     },
     "metadata": {},
     "output_type": "display_data"
    }
   ],
   "source": [
    "melt(Boston, id = 'crim') %>%\n",
    "ggplot(aes(value, crim)) +\n",
    "geom_point() +\n",
    "facet_wrap(~ variable, ncol = 3, scales = 'free')"
   ]
  },
  {
   "cell_type": "code",
   "execution_count": 87,
   "metadata": {
    "scrolled": true
   },
   "outputs": [
    {
     "data": {
      "text/html": [
       "<ol class=list-inline>\n",
       "\t<li>'crim'</li>\n",
       "\t<li>'zn'</li>\n",
       "\t<li>'indus'</li>\n",
       "\t<li>'chas'</li>\n",
       "\t<li>'nox'</li>\n",
       "\t<li>'rm'</li>\n",
       "\t<li>'age'</li>\n",
       "\t<li>'dis'</li>\n",
       "\t<li>'rad'</li>\n",
       "\t<li>'tax'</li>\n",
       "\t<li>'ptratio'</li>\n",
       "\t<li>'black'</li>\n",
       "\t<li>'lstat'</li>\n",
       "\t<li>'medv'</li>\n",
       "</ol>\n"
      ],
      "text/latex": [
       "\\begin{enumerate*}\n",
       "\\item 'crim'\n",
       "\\item 'zn'\n",
       "\\item 'indus'\n",
       "\\item 'chas'\n",
       "\\item 'nox'\n",
       "\\item 'rm'\n",
       "\\item 'age'\n",
       "\\item 'dis'\n",
       "\\item 'rad'\n",
       "\\item 'tax'\n",
       "\\item 'ptratio'\n",
       "\\item 'black'\n",
       "\\item 'lstat'\n",
       "\\item 'medv'\n",
       "\\end{enumerate*}\n"
      ],
      "text/markdown": [
       "1. 'crim'\n",
       "2. 'zn'\n",
       "3. 'indus'\n",
       "4. 'chas'\n",
       "5. 'nox'\n",
       "6. 'rm'\n",
       "7. 'age'\n",
       "8. 'dis'\n",
       "9. 'rad'\n",
       "10. 'tax'\n",
       "11. 'ptratio'\n",
       "12. 'black'\n",
       "13. 'lstat'\n",
       "14. 'medv'\n",
       "\n",
       "\n"
      ],
      "text/plain": [
       " [1] \"crim\"    \"zn\"      \"indus\"   \"chas\"    \"nox\"     \"rm\"      \"age\"    \n",
       " [8] \"dis\"     \"rad\"     \"tax\"     \"ptratio\" \"black\"   \"lstat\"   \"medv\"   "
      ]
     },
     "metadata": {},
     "output_type": "display_data"
    }
   ],
   "source": [
    "names(Boston)"
   ]
  },
  {
   "cell_type": "code",
   "execution_count": 97,
   "metadata": {},
   "outputs": [
    {
     "name": "stderr",
     "output_type": "stream",
     "text": [
      "No id variables; using all as measure variables\n"
     ]
    },
    {
     "data": {},
     "metadata": {},
     "output_type": "display_data"
    },
    {
     "data": {
      "image/png": "[encoded data removed]",
      "text/plain": [
       "plot without title"
      ]
     },
     "metadata": {},
     "output_type": "display_data"
    }
   ],
   "source": [
    "dplyr::select(Boston, crim, tax, ptratio) %>%\n",
    "melt() %>%\n",
    "ggplot(aes(value)) +\n",
    "geom_histogram(bins = 30) +\n",
    "facet_wrap(~ variable, nrow = 3, scales = 'free')"
   ]
  },
  {
   "cell_type": "code",
   "execution_count": 101,
   "metadata": {
    "scrolled": true
   },
   "outputs": [
    {
     "data": {
      "text/html": [
       "<table>\n",
       "<thead><tr><th scope=col>crim</th><th scope=col>tax</th><th scope=col>ptratio</th></tr></thead>\n",
       "<tbody>\n",
       "\t<tr><td> 0.00632</td><td>187     </td><td>12.6    </td></tr>\n",
       "\t<tr><td>88.97620</td><td>711     </td><td>22.0    </td></tr>\n",
       "</tbody>\n",
       "</table>\n"
      ],
      "text/latex": [
       "\\begin{tabular}{lll}\n",
       " crim & tax & ptratio\\\\\n",
       "\\hline\n",
       "\t  0.00632 & 187      & 12.6    \\\\\n",
       "\t 88.97620 & 711      & 22.0    \\\\\n",
       "\\end{tabular}\n"
      ],
      "text/markdown": [
       "\n",
       "crim | tax | ptratio | \n",
       "|---|---|\n",
       "|  0.00632 | 187      | 12.6     | \n",
       "| 88.97620 | 711      | 22.0     | \n",
       "\n",
       "\n"
      ],
      "text/plain": [
       "     crim     tax ptratio\n",
       "[1,]  0.00632 187 12.6   \n",
       "[2,] 88.97620 711 22.0   "
      ]
     },
     "metadata": {},
     "output_type": "display_data"
    }
   ],
   "source": [
    "dplyr::select(Boston, crim, tax, ptratio) %>%\n",
    "sapply(range)"
   ]
  },
  {
   "cell_type": "code",
   "execution_count": 103,
   "metadata": {},
   "outputs": [
    {
     "data": {
      "text/html": [
       "35"
      ],
      "text/latex": [
       "35"
      ],
      "text/markdown": [
       "35"
      ],
      "text/plain": [
       "[1] 35"
      ]
     },
     "metadata": {},
     "output_type": "display_data"
    }
   ],
   "source": [
    "sum(Boston$chas)"
   ]
  },
  {
   "cell_type": "code",
   "execution_count": 104,
   "metadata": {},
   "outputs": [
    {
     "data": {
      "text/html": [
       "19.05"
      ],
      "text/latex": [
       "19.05"
      ],
      "text/markdown": [
       "19.05"
      ],
      "text/plain": [
       "[1] 19.05"
      ]
     },
     "metadata": {},
     "output_type": "display_data"
    }
   ],
   "source": [
    "median(Boston$ptratio)"
   ]
  },
  {
   "cell_type": "code",
   "execution_count": 110,
   "metadata": {},
   "outputs": [],
   "source": [
    "cheapest_homes <- Boston %>%\n",
    "filter(medv == min(medv))"
   ]
  },
  {
   "cell_type": "code",
   "execution_count": 128,
   "metadata": {},
   "outputs": [
    {
     "data": {
      "text/html": [
       "<table>\n",
       "<thead><tr><th scope=col>crim</th><th scope=col>zn</th><th scope=col>indus</th><th scope=col>chas</th><th scope=col>nox</th><th scope=col>rm</th><th scope=col>age</th><th scope=col>dis</th><th scope=col>rad</th><th scope=col>tax</th><th scope=col>ptratio</th><th scope=col>black</th><th scope=col>lstat</th><th scope=col>medv</th></tr></thead>\n",
       "<tbody>\n",
       "\t<tr><td>38.3518</td><td>0      </td><td>18.1   </td><td>0      </td><td>0.693  </td><td>5.453  </td><td>100    </td><td>1.4896 </td><td>24     </td><td>666    </td><td>20.2   </td><td>396.90 </td><td>30.59  </td><td>5      </td></tr>\n",
       "\t<tr><td>67.9208</td><td>0      </td><td>18.1   </td><td>0      </td><td>0.693  </td><td>5.683  </td><td>100    </td><td>1.4254 </td><td>24     </td><td>666    </td><td>20.2   </td><td>384.97 </td><td>22.98  </td><td>5      </td></tr>\n",
       "</tbody>\n",
       "</table>\n"
      ],
      "text/latex": [
       "\\begin{tabular}{r|llllllllllllll}\n",
       " crim & zn & indus & chas & nox & rm & age & dis & rad & tax & ptratio & black & lstat & medv\\\\\n",
       "\\hline\n",
       "\t 38.3518 & 0       & 18.1    & 0       & 0.693   & 5.453   & 100     & 1.4896  & 24      & 666     & 20.2    & 396.90  & 30.59   & 5      \\\\\n",
       "\t 67.9208 & 0       & 18.1    & 0       & 0.693   & 5.683   & 100     & 1.4254  & 24      & 666     & 20.2    & 384.97  & 22.98   & 5      \\\\\n",
       "\\end{tabular}\n"
      ],
      "text/markdown": [
       "\n",
       "crim | zn | indus | chas | nox | rm | age | dis | rad | tax | ptratio | black | lstat | medv | \n",
       "|---|---|\n",
       "| 38.3518 | 0       | 18.1    | 0       | 0.693   | 5.453   | 100     | 1.4896  | 24      | 666     | 20.2    | 396.90  | 30.59   | 5       | \n",
       "| 67.9208 | 0       | 18.1    | 0       | 0.693   | 5.683   | 100     | 1.4254  | 24      | 666     | 20.2    | 384.97  | 22.98   | 5       | \n",
       "\n",
       "\n"
      ],
      "text/plain": [
       "  crim    zn indus chas nox   rm    age dis    rad tax ptratio black  lstat\n",
       "1 38.3518 0  18.1  0    0.693 5.453 100 1.4896 24  666 20.2    396.90 30.59\n",
       "2 67.9208 0  18.1  0    0.693 5.683 100 1.4254 24  666 20.2    384.97 22.98\n",
       "  medv\n",
       "1 5   \n",
       "2 5   "
      ]
     },
     "metadata": {},
     "output_type": "display_data"
    }
   ],
   "source": [
    "cheapest_homes"
   ]
  },
  {
   "cell_type": "code",
   "execution_count": 112,
   "metadata": {},
   "outputs": [],
   "source": [
    "compare_table <- rbind(cheapest_homes, sapply(Boston, range))"
   ]
  },
  {
   "cell_type": "code",
   "execution_count": 114,
   "metadata": {},
   "outputs": [],
   "source": [
    "rownames(compare_table) <- c('cheap1', 'cheap2', 'min', 'max')`"
   ]
  },
  {
   "cell_type": "code",
   "execution_count": 115,
   "metadata": {
    "scrolled": true
   },
   "outputs": [
    {
     "data": {
      "text/html": [
       "<table>\n",
       "<thead><tr><th></th><th scope=col>crim</th><th scope=col>zn</th><th scope=col>indus</th><th scope=col>chas</th><th scope=col>nox</th><th scope=col>rm</th><th scope=col>age</th><th scope=col>dis</th><th scope=col>rad</th><th scope=col>tax</th><th scope=col>ptratio</th><th scope=col>black</th><th scope=col>lstat</th><th scope=col>medv</th></tr></thead>\n",
       "<tbody>\n",
       "\t<tr><th scope=row>cheap1</th><td>38.35180</td><td>  0     </td><td>18.10   </td><td>0       </td><td>0.693   </td><td>5.453   </td><td>100.0   </td><td> 1.4896 </td><td>24      </td><td>666     </td><td>20.2    </td><td>396.90  </td><td>30.59   </td><td> 5      </td></tr>\n",
       "\t<tr><th scope=row>cheap2</th><td>67.92080</td><td>  0     </td><td>18.10   </td><td>0       </td><td>0.693   </td><td>5.683   </td><td>100.0   </td><td> 1.4254 </td><td>24      </td><td>666     </td><td>20.2    </td><td>384.97  </td><td>22.98   </td><td> 5      </td></tr>\n",
       "\t<tr><th scope=row>min</th><td> 0.00632</td><td>  0     </td><td> 0.46   </td><td>0       </td><td>0.385   </td><td>3.561   </td><td>  2.9   </td><td> 1.1296 </td><td> 1      </td><td>187     </td><td>12.6    </td><td>  0.32  </td><td> 1.73   </td><td> 5      </td></tr>\n",
       "\t<tr><th scope=row>max</th><td>88.97620</td><td>100     </td><td>27.74   </td><td>1       </td><td>0.871   </td><td>8.780   </td><td>100.0   </td><td>12.1265 </td><td>24      </td><td>711     </td><td>22.0    </td><td>396.90  </td><td>37.97   </td><td>50      </td></tr>\n",
       "</tbody>\n",
       "</table>\n"
      ],
      "text/latex": [
       "\\begin{tabular}{r|llllllllllllll}\n",
       "  & crim & zn & indus & chas & nox & rm & age & dis & rad & tax & ptratio & black & lstat & medv\\\\\n",
       "\\hline\n",
       "\tcheap1 & 38.35180 &   0      & 18.10    & 0        & 0.693    & 5.453    & 100.0    &  1.4896  & 24       & 666      & 20.2     & 396.90   & 30.59    &  5      \\\\\n",
       "\tcheap2 & 67.92080 &   0      & 18.10    & 0        & 0.693    & 5.683    & 100.0    &  1.4254  & 24       & 666      & 20.2     & 384.97   & 22.98    &  5      \\\\\n",
       "\tmin &  0.00632 &   0      &  0.46    & 0        & 0.385    & 3.561    &   2.9    &  1.1296  &  1       & 187      & 12.6     &   0.32   &  1.73    &  5      \\\\\n",
       "\tmax & 88.97620 & 100      & 27.74    & 1        & 0.871    & 8.780    & 100.0    & 12.1265  & 24       & 711      & 22.0     & 396.90   & 37.97    & 50      \\\\\n",
       "\\end{tabular}\n"
      ],
      "text/markdown": [
       "\n",
       "| <!--/--> | crim | zn | indus | chas | nox | rm | age | dis | rad | tax | ptratio | black | lstat | medv | \n",
       "|---|---|---|---|\n",
       "| cheap1 | 38.35180 |   0      | 18.10    | 0        | 0.693    | 5.453    | 100.0    |  1.4896  | 24       | 666      | 20.2     | 396.90   | 30.59    |  5       | \n",
       "| cheap2 | 67.92080 |   0      | 18.10    | 0        | 0.693    | 5.683    | 100.0    |  1.4254  | 24       | 666      | 20.2     | 384.97   | 22.98    |  5       | \n",
       "| min |  0.00632 |   0      |  0.46    | 0        | 0.385    | 3.561    |   2.9    |  1.1296  |  1       | 187      | 12.6     |   0.32   |  1.73    |  5       | \n",
       "| max | 88.97620 | 100      | 27.74    | 1        | 0.871    | 8.780    | 100.0    | 12.1265  | 24       | 711      | 22.0     | 396.90   | 37.97    | 50       | \n",
       "\n",
       "\n"
      ],
      "text/plain": [
       "       crim     zn  indus chas nox   rm    age   dis     rad tax ptratio black \n",
       "cheap1 38.35180   0 18.10 0    0.693 5.453 100.0  1.4896 24  666 20.2    396.90\n",
       "cheap2 67.92080   0 18.10 0    0.693 5.683 100.0  1.4254 24  666 20.2    384.97\n",
       "min     0.00632   0  0.46 0    0.385 3.561   2.9  1.1296  1  187 12.6      0.32\n",
       "max    88.97620 100 27.74 1    0.871 8.780 100.0 12.1265 24  711 22.0    396.90\n",
       "       lstat medv\n",
       "cheap1 30.59  5  \n",
       "cheap2 22.98  5  \n",
       "min     1.73  5  \n",
       "max    37.97 50  "
      ]
     },
     "metadata": {},
     "output_type": "display_data"
    }
   ],
   "source": [
    "compare_table"
   ]
  },
  {
   "cell_type": "code",
   "execution_count": 118,
   "metadata": {},
   "outputs": [
    {
     "data": {
      "text/html": [
       "<table>\n",
       "<thead><tr><th scope=col>n</th></tr></thead>\n",
       "<tbody>\n",
       "\t<tr><td>64</td></tr>\n",
       "</tbody>\n",
       "</table>\n"
      ],
      "text/latex": [
       "\\begin{tabular}{r|l}\n",
       " n\\\\\n",
       "\\hline\n",
       "\t 64\\\\\n",
       "\\end{tabular}\n"
      ],
      "text/markdown": [
       "\n",
       "n | \n",
       "|---|\n",
       "| 64 | \n",
       "\n",
       "\n"
      ],
      "text/plain": [
       "  n \n",
       "1 64"
      ]
     },
     "metadata": {},
     "output_type": "display_data"
    }
   ],
   "source": [
    "Boston %>%\n",
    "filter(rm > 7) %>%\n",
    "count()"
   ]
  },
  {
   "cell_type": "code",
   "execution_count": 119,
   "metadata": {},
   "outputs": [
    {
     "data": {
      "text/html": [
       "<table>\n",
       "<thead><tr><th scope=col>n</th></tr></thead>\n",
       "<tbody>\n",
       "\t<tr><td>13</td></tr>\n",
       "</tbody>\n",
       "</table>\n"
      ],
      "text/latex": [
       "\\begin{tabular}{r|l}\n",
       " n\\\\\n",
       "\\hline\n",
       "\t 13\\\\\n",
       "\\end{tabular}\n"
      ],
      "text/markdown": [
       "\n",
       "n | \n",
       "|---|\n",
       "| 13 | \n",
       "\n",
       "\n"
      ],
      "text/plain": [
       "  n \n",
       "1 13"
      ]
     },
     "metadata": {},
     "output_type": "display_data"
    }
   ],
   "source": [
    "Boston %>%\n",
    "filter(rm > 8) %>%\n",
    "count()"
   ]
  },
  {
   "cell_type": "code",
   "execution_count": 122,
   "metadata": {},
   "outputs": [
    {
     "data": {
      "text/html": [
       "<ol class=list-inline>\n",
       "\t<li>'crim'</li>\n",
       "\t<li>'zn'</li>\n",
       "\t<li>'indus'</li>\n",
       "\t<li>'chas'</li>\n",
       "\t<li>'nox'</li>\n",
       "\t<li>'rm'</li>\n",
       "\t<li>'age'</li>\n",
       "\t<li>'dis'</li>\n",
       "\t<li>'rad'</li>\n",
       "\t<li>'tax'</li>\n",
       "\t<li>'ptratio'</li>\n",
       "\t<li>'black'</li>\n",
       "\t<li>'lstat'</li>\n",
       "\t<li>'medv'</li>\n",
       "</ol>\n"
      ],
      "text/latex": [
       "\\begin{enumerate*}\n",
       "\\item 'crim'\n",
       "\\item 'zn'\n",
       "\\item 'indus'\n",
       "\\item 'chas'\n",
       "\\item 'nox'\n",
       "\\item 'rm'\n",
       "\\item 'age'\n",
       "\\item 'dis'\n",
       "\\item 'rad'\n",
       "\\item 'tax'\n",
       "\\item 'ptratio'\n",
       "\\item 'black'\n",
       "\\item 'lstat'\n",
       "\\item 'medv'\n",
       "\\end{enumerate*}\n"
      ],
      "text/markdown": [
       "1. 'crim'\n",
       "2. 'zn'\n",
       "3. 'indus'\n",
       "4. 'chas'\n",
       "5. 'nox'\n",
       "6. 'rm'\n",
       "7. 'age'\n",
       "8. 'dis'\n",
       "9. 'rad'\n",
       "10. 'tax'\n",
       "11. 'ptratio'\n",
       "12. 'black'\n",
       "13. 'lstat'\n",
       "14. 'medv'\n",
       "\n",
       "\n"
      ],
      "text/plain": [
       " [1] \"crim\"    \"zn\"      \"indus\"   \"chas\"    \"nox\"     \"rm\"      \"age\"    \n",
       " [8] \"dis\"     \"rad\"     \"tax\"     \"ptratio\" \"black\"   \"lstat\"   \"medv\"   "
      ]
     },
     "metadata": {},
     "output_type": "display_data"
    }
   ],
   "source": [
    "names(Boston)"
   ]
  }
 ],
 "metadata": {
  "kernelspec": {
   "display_name": "R",
   "language": "R",
   "name": "ir"
  },
  "language_info": {
   "codemirror_mode": "r",
   "file_extension": ".r",
   "mimetype": "text/x-r-source",
   "name": "R",
   "pygments_lexer": "r",
   "version": "3.4.2"
  }
 },
 "nbformat": 4,
 "nbformat_minor": 2
}
