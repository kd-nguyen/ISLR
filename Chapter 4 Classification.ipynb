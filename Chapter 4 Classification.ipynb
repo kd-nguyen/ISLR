{
 "cells": [
  {
   "cell_type": "code",
   "execution_count": 1,
   "metadata": {},
   "outputs": [
    {
     "name": "stderr",
     "output_type": "stream",
     "text": [
      "-- Attaching packages --------------------------------------- tidyverse 1.2.1 --\n",
      "v ggplot2 2.2.1     v purrr   0.2.4\n",
      "v tibble  1.4.2     v dplyr   0.7.4\n",
      "v tidyr   0.8.0     v stringr 1.3.0\n",
      "v readr   1.1.1     v forcats 0.3.0\n",
      "-- Conflicts ------------------------------------------ tidyverse_conflicts() --\n",
      "x dplyr::filter() masks stats::filter()\n",
      "x dplyr::lag()    masks stats::lag()\n",
      "x dplyr::select() masks MASS::select()\n"
     ]
    }
   ],
   "source": [
    "library(ISLR)\n",
    "library(MASS)\n",
    "library(tidyverse)"
   ]
  },
  {
   "cell_type": "code",
   "execution_count": 2,
   "metadata": {},
   "outputs": [
    {
     "data": {
      "text/html": [
       "<ol class=list-inline>\n",
       "\t<li>5822</li>\n",
       "\t<li>86</li>\n",
       "</ol>\n"
      ],
      "text/latex": [
       "\\begin{enumerate*}\n",
       "\\item 5822\n",
       "\\item 86\n",
       "\\end{enumerate*}\n"
      ],
      "text/markdown": [
       "1. 5822\n",
       "2. 86\n",
       "\n",
       "\n"
      ],
      "text/plain": [
       "[1] 5822   86"
      ]
     },
     "metadata": {},
     "output_type": "display_data"
    }
   ],
   "source": [
    "dim(Caravan)"
   ]
  },
  {
   "cell_type": "code",
   "execution_count": 3,
   "metadata": {},
   "outputs": [],
   "source": [
    "attach(Caravan)"
   ]
  },
  {
   "cell_type": "code",
   "execution_count": 4,
   "metadata": {},
   "outputs": [
    {
     "data": {
      "text/html": [
       "<dl class=dl-horizontal>\n",
       "\t<dt>No</dt>\n",
       "\t\t<dd>5474</dd>\n",
       "\t<dt>Yes</dt>\n",
       "\t\t<dd>348</dd>\n",
       "</dl>\n"
      ],
      "text/latex": [
       "\\begin{description*}\n",
       "\\item[No] 5474\n",
       "\\item[Yes] 348\n",
       "\\end{description*}\n"
      ],
      "text/markdown": [
       "No\n",
       ":   5474Yes\n",
       ":   348\n",
       "\n"
      ],
      "text/plain": [
       "  No  Yes \n",
       "5474  348 "
      ]
     },
     "metadata": {},
     "output_type": "display_data"
    }
   ],
   "source": [
    "summary(Purchase)"
   ]
  },
  {
   "cell_type": "code",
   "execution_count": 5,
   "metadata": {},
   "outputs": [],
   "source": [
    "standardized.X <- scale(Caravan[, -86])"
   ]
  },
  {
   "cell_type": "code",
   "execution_count": 8,
   "metadata": {},
   "outputs": [
    {
     "data": {
      "text/html": [
       "1"
      ],
      "text/latex": [
       "1"
      ],
      "text/markdown": [
       "1"
      ],
      "text/plain": [
       "[1] 1"
      ]
     },
     "metadata": {},
     "output_type": "display_data"
    }
   ],
   "source": [
    "var(standardized.X[, 1])"
   ]
  },
  {
   "cell_type": "code",
   "execution_count": 19,
   "metadata": {},
   "outputs": [],
   "source": [
    "library(class)"
   ]
  },
  {
   "cell_type": "code",
   "execution_count": 20,
   "metadata": {
    "scrolled": true
   },
   "outputs": [],
   "source": [
    "test <- 1:1000\n",
    "train.X <- standardized.X[-test,]\n",
    "test.X <- standardized.X[test,]\n",
    "train.Y <- Purchase[-test]\n",
    "test.Y <- Purchase[test]\n",
    "set.seed(1)\n",
    "knn.pred <- knn(train.X, test.X, train.Y, k=1)"
   ]
  },
  {
   "cell_type": "code",
   "execution_count": 22,
   "metadata": {},
   "outputs": [
    {
     "data": {
      "text/html": [
       "0.118"
      ],
      "text/latex": [
       "0.118"
      ],
      "text/markdown": [
       "0.118"
      ],
      "text/plain": [
       "[1] 0.118"
      ]
     },
     "metadata": {},
     "output_type": "display_data"
    }
   ],
   "source": [
    "mean(test.Y != knn.pred)"
   ]
  },
  {
   "cell_type": "code",
   "execution_count": 24,
   "metadata": {
    "scrolled": true
   },
   "outputs": [
    {
     "data": {
      "text/plain": [
       "        test.Y\n",
       "knn.pred  No Yes\n",
       "     No  873  50\n",
       "     Yes  68   9"
      ]
     },
     "metadata": {},
     "output_type": "display_data"
    }
   ],
   "source": [
    "table(knn.pred, test.Y)"
   ]
  },
  {
   "cell_type": "code",
   "execution_count": 25,
   "metadata": {},
   "outputs": [
    {
     "name": "stderr",
     "output_type": "stream",
     "text": [
      "Warning message:\n",
      "\"glm.fit: fitted probabilities numerically 0 or 1 occurred\""
     ]
    }
   ],
   "source": [
    "glm.fit <- glm(Purchase ~ ., data = Caravan, family = binomial, subset = -test)"
   ]
  },
  {
   "cell_type": "code",
   "execution_count": 26,
   "metadata": {},
   "outputs": [],
   "source": [
    "glm.probs <- predict(glm.fit, Caravan[test,], type = 'response')"
   ]
  },
  {
   "cell_type": "code",
   "execution_count": 28,
   "metadata": {
    "scrolled": true
   },
   "outputs": [
    {
     "data": {
      "text/plain": [
       "           test.Y\n",
       "glm.pred.25  No Yes\n",
       "        No  919  48\n",
       "        Yes  22  11"
      ]
     },
     "metadata": {},
     "output_type": "display_data"
    }
   ],
   "source": [
    "glm.pred.25 <- ifelse(glm.probs > 0.25, 'Yes', 'No')\n",
    "table(glm.pred.25, test.Y)"
   ]
  },
  {
   "cell_type": "markdown",
   "metadata": {},
   "source": [
    "# 10"
   ]
  },
  {
   "cell_type": "code",
   "execution_count": 2,
   "metadata": {},
   "outputs": [
    {
     "data": {
      "image/png": "[encoded data removed]",
      "text/plain": [
       "plot without title"
      ]
     },
     "metadata": {},
     "output_type": "display_data"
    }
   ],
   "source": [
    "pairs(Weekly)"
   ]
  },
  {
   "cell_type": "code",
   "execution_count": 3,
   "metadata": {},
   "outputs": [
    {
     "data": {
      "text/html": [
       "<table>\n",
       "<thead><tr><th scope=col>Year</th><th scope=col>Lag1</th><th scope=col>Lag2</th><th scope=col>Lag3</th><th scope=col>Lag4</th><th scope=col>Lag5</th><th scope=col>Volume</th><th scope=col>Today</th><th scope=col>Direction</th></tr></thead>\n",
       "<tbody>\n",
       "\t<tr><td>1990     </td><td> 0.816   </td><td> 1.572   </td><td>-3.936   </td><td>-0.229   </td><td>-3.484   </td><td>0.1549760</td><td>-0.270   </td><td>Down     </td></tr>\n",
       "\t<tr><td>1990     </td><td>-0.270   </td><td> 0.816   </td><td> 1.572   </td><td>-3.936   </td><td>-0.229   </td><td>0.1485740</td><td>-2.576   </td><td>Down     </td></tr>\n",
       "\t<tr><td>1990     </td><td>-2.576   </td><td>-0.270   </td><td> 0.816   </td><td> 1.572   </td><td>-3.936   </td><td>0.1598375</td><td> 3.514   </td><td>Up       </td></tr>\n",
       "\t<tr><td>1990     </td><td> 3.514   </td><td>-2.576   </td><td>-0.270   </td><td> 0.816   </td><td> 1.572   </td><td>0.1616300</td><td> 0.712   </td><td>Up       </td></tr>\n",
       "\t<tr><td>1990     </td><td> 0.712   </td><td> 3.514   </td><td>-2.576   </td><td>-0.270   </td><td> 0.816   </td><td>0.1537280</td><td> 1.178   </td><td>Up       </td></tr>\n",
       "\t<tr><td>1990     </td><td> 1.178   </td><td> 0.712   </td><td> 3.514   </td><td>-2.576   </td><td>-0.270   </td><td>0.1544440</td><td>-1.372   </td><td>Down     </td></tr>\n",
       "</tbody>\n",
       "</table>\n"
      ],
      "text/latex": [
       "\\begin{tabular}{r|lllllllll}\n",
       " Year & Lag1 & Lag2 & Lag3 & Lag4 & Lag5 & Volume & Today & Direction\\\\\n",
       "\\hline\n",
       "\t 1990      &  0.816    &  1.572    & -3.936    & -0.229    & -3.484    & 0.1549760 & -0.270    & Down     \\\\\n",
       "\t 1990      & -0.270    &  0.816    &  1.572    & -3.936    & -0.229    & 0.1485740 & -2.576    & Down     \\\\\n",
       "\t 1990      & -2.576    & -0.270    &  0.816    &  1.572    & -3.936    & 0.1598375 &  3.514    & Up       \\\\\n",
       "\t 1990      &  3.514    & -2.576    & -0.270    &  0.816    &  1.572    & 0.1616300 &  0.712    & Up       \\\\\n",
       "\t 1990      &  0.712    &  3.514    & -2.576    & -0.270    &  0.816    & 0.1537280 &  1.178    & Up       \\\\\n",
       "\t 1990      &  1.178    &  0.712    &  3.514    & -2.576    & -0.270    & 0.1544440 & -1.372    & Down     \\\\\n",
       "\\end{tabular}\n"
      ],
      "text/markdown": [
       "\n",
       "Year | Lag1 | Lag2 | Lag3 | Lag4 | Lag5 | Volume | Today | Direction | \n",
       "|---|---|---|---|---|---|\n",
       "| 1990      |  0.816    |  1.572    | -3.936    | -0.229    | -3.484    | 0.1549760 | -0.270    | Down      | \n",
       "| 1990      | -0.270    |  0.816    |  1.572    | -3.936    | -0.229    | 0.1485740 | -2.576    | Down      | \n",
       "| 1990      | -2.576    | -0.270    |  0.816    |  1.572    | -3.936    | 0.1598375 |  3.514    | Up        | \n",
       "| 1990      |  3.514    | -2.576    | -0.270    |  0.816    |  1.572    | 0.1616300 |  0.712    | Up        | \n",
       "| 1990      |  0.712    |  3.514    | -2.576    | -0.270    |  0.816    | 0.1537280 |  1.178    | Up        | \n",
       "| 1990      |  1.178    |  0.712    |  3.514    | -2.576    | -0.270    | 0.1544440 | -1.372    | Down      | \n",
       "\n",
       "\n"
      ],
      "text/plain": [
       "  Year Lag1   Lag2   Lag3   Lag4   Lag5   Volume    Today  Direction\n",
       "1 1990  0.816  1.572 -3.936 -0.229 -3.484 0.1549760 -0.270 Down     \n",
       "2 1990 -0.270  0.816  1.572 -3.936 -0.229 0.1485740 -2.576 Down     \n",
       "3 1990 -2.576 -0.270  0.816  1.572 -3.936 0.1598375  3.514 Up       \n",
       "4 1990  3.514 -2.576 -0.270  0.816  1.572 0.1616300  0.712 Up       \n",
       "5 1990  0.712  3.514 -2.576 -0.270  0.816 0.1537280  1.178 Up       \n",
       "6 1990  1.178  0.712  3.514 -2.576 -0.270 0.1544440 -1.372 Down     "
      ]
     },
     "metadata": {},
     "output_type": "display_data"
    }
   ],
   "source": [
    "head(Weekly)"
   ]
  },
  {
   "cell_type": "code",
   "execution_count": 27,
   "metadata": {},
   "outputs": [],
   "source": [
    "logistic <- glm(Direction ~ . - Year - Today, data = Weekly, family = binomial)"
   ]
  },
  {
   "cell_type": "code",
   "execution_count": 11,
   "metadata": {},
   "outputs": [
    {
     "data": {
      "text/plain": [
       "\n",
       "Call:\n",
       "glm(formula = Direction ~ . - Year - Today, family = binomial, \n",
       "    data = Weekly)\n",
       "\n",
       "Deviance Residuals: \n",
       "    Min       1Q   Median       3Q      Max  \n",
       "-1.6949  -1.2565   0.9913   1.0849   1.4579  \n",
       "\n",
       "Coefficients:\n",
       "            Estimate Std. Error z value Pr(>|z|)   \n",
       "(Intercept)  0.26686    0.08593   3.106   0.0019 **\n",
       "Lag1        -0.04127    0.02641  -1.563   0.1181   \n",
       "Lag2         0.05844    0.02686   2.175   0.0296 * \n",
       "Lag3        -0.01606    0.02666  -0.602   0.5469   \n",
       "Lag4        -0.02779    0.02646  -1.050   0.2937   \n",
       "Lag5        -0.01447    0.02638  -0.549   0.5833   \n",
       "Volume      -0.02274    0.03690  -0.616   0.5377   \n",
       "---\n",
       "Signif. codes:  0 '***' 0.001 '**' 0.01 '*' 0.05 '.' 0.1 ' ' 1\n",
       "\n",
       "(Dispersion parameter for binomial family taken to be 1)\n",
       "\n",
       "    Null deviance: 1496.2  on 1088  degrees of freedom\n",
       "Residual deviance: 1486.4  on 1082  degrees of freedom\n",
       "AIC: 1500.4\n",
       "\n",
       "Number of Fisher Scoring iterations: 4\n"
      ]
     },
     "metadata": {},
     "output_type": "display_data"
    }
   ],
   "source": [
    "summary(logistic)"
   ]
  },
  {
   "cell_type": "code",
   "execution_count": 18,
   "metadata": {},
   "outputs": [
    {
     "data": {
      "text/html": [
       "<table>\n",
       "<thead><tr><th></th><th scope=col>Up</th></tr></thead>\n",
       "<tbody>\n",
       "\t<tr><th scope=row>Down</th><td>0</td></tr>\n",
       "\t<tr><th scope=row>Up</th><td>1</td></tr>\n",
       "</tbody>\n",
       "</table>\n"
      ],
      "text/latex": [
       "\\begin{tabular}{r|l}\n",
       "  & Up\\\\\n",
       "\\hline\n",
       "\tDown & 0\\\\\n",
       "\tUp & 1\\\\\n",
       "\\end{tabular}\n"
      ],
      "text/markdown": [
       "\n",
       "| <!--/--> | Up | \n",
       "|---|---|\n",
       "| Down | 0 | \n",
       "| Up | 1 | \n",
       "\n",
       "\n"
      ],
      "text/plain": [
       "     Up\n",
       "Down 0 \n",
       "Up   1 "
      ]
     },
     "metadata": {},
     "output_type": "display_data"
    }
   ],
   "source": [
    "contrasts(Weekly$Direction)"
   ]
  },
  {
   "cell_type": "code",
   "execution_count": 32,
   "metadata": {
    "scrolled": true
   },
   "outputs": [
    {
     "data": {
      "text/plain": [
       "               \n",
       "y.pred.logistic Down  Up\n",
       "           Down   54  48\n",
       "           Up    430 557"
      ]
     },
     "metadata": {},
     "output_type": "display_data"
    }
   ],
   "source": [
    "y.pred.logistic <- ifelse(predict(logistic, type = 'response') > 0.5, 'Up', 'Down')\n",
    "table(y.pred.logistic, Weekly$Direction)"
   ]
  },
  {
   "cell_type": "code",
   "execution_count": 75,
   "metadata": {},
   "outputs": [
    {
     "data": {
      "text/html": [
       "0.561065197428834"
      ],
      "text/latex": [
       "0.561065197428834"
      ],
      "text/markdown": [
       "0.561065197428834"
      ],
      "text/plain": [
       "[1] 0.5610652"
      ]
     },
     "metadata": {},
     "output_type": "display_data"
    }
   ],
   "source": [
    "mean(y.pred.logistic == Weekly$Direction)"
   ]
  },
  {
   "cell_type": "markdown",
   "metadata": {},
   "source": [
    "## d"
   ]
  },
  {
   "cell_type": "code",
   "execution_count": 60,
   "metadata": {},
   "outputs": [
    {
     "name": "stderr",
     "output_type": "stream",
     "text": [
      "The following objects are masked from Weekly (pos = 3):\n",
      "\n",
      "    Direction, Lag1, Lag2, Lag3, Lag4, Lag5, Today, Volume, Year\n",
      "\n",
      "The following objects are masked from Weekly (pos = 4):\n",
      "\n",
      "    Direction, Lag1, Lag2, Lag3, Lag4, Lag5, Today, Volume, Year\n",
      "\n",
      "The following objects are masked from Weekly (pos = 5):\n",
      "\n",
      "    Direction, Lag1, Lag2, Lag3, Lag4, Lag5, Today, Volume, Year\n",
      "\n",
      "The following objects are masked from Weekly (pos = 6):\n",
      "\n",
      "    Direction, Lag1, Lag2, Lag3, Lag4, Lag5, Today, Volume, Year\n",
      "\n",
      "The following objects are masked from Weekly (pos = 7):\n",
      "\n",
      "    Direction, Lag1, Lag2, Lag3, Lag4, Lag5, Today, Volume, Year\n",
      "\n"
     ]
    }
   ],
   "source": [
    "attach(Weekly)"
   ]
  },
  {
   "cell_type": "code",
   "execution_count": 87,
   "metadata": {
    "scrolled": false
   },
   "outputs": [],
   "source": [
    "train <- Year >= 1990 & Year <= 2008"
   ]
  },
  {
   "cell_type": "code",
   "execution_count": 100,
   "metadata": {},
   "outputs": [],
   "source": [
    "Weekly.train <- Weekly[train, ]\n",
    "Weekly.test <- Weekly[!train, ]"
   ]
  },
  {
   "cell_type": "code",
   "execution_count": 112,
   "metadata": {
    "scrolled": true
   },
   "outputs": [
    {
     "data": {
      "text/plain": [
       "\n",
       "Call:\n",
       "glm(formula = Direction ~ . - Year - Today, family = binomial, \n",
       "    data = Weekly.train)\n",
       "\n",
       "Deviance Residuals: \n",
       "    Min       1Q   Median       3Q      Max  \n",
       "-1.7186  -1.2498   0.9823   1.0841   1.4911  \n",
       "\n",
       "Coefficients:\n",
       "            Estimate Std. Error z value Pr(>|z|)    \n",
       "(Intercept)  0.33258    0.09421   3.530 0.000415 ***\n",
       "Lag1        -0.06231    0.02935  -2.123 0.033762 *  \n",
       "Lag2         0.04468    0.02982   1.499 0.134002    \n",
       "Lag3        -0.01546    0.02948  -0.524 0.599933    \n",
       "Lag4        -0.03111    0.02924  -1.064 0.287241    \n",
       "Lag5        -0.03775    0.02924  -1.291 0.196774    \n",
       "Volume      -0.08972    0.05410  -1.658 0.097240 .  \n",
       "---\n",
       "Signif. codes:  0 '***' 0.001 '**' 0.01 '*' 0.05 '.' 0.1 ' ' 1\n",
       "\n",
       "(Dispersion parameter for binomial family taken to be 1)\n",
       "\n",
       "    Null deviance: 1354.7  on 984  degrees of freedom\n",
       "Residual deviance: 1342.3  on 978  degrees of freedom\n",
       "AIC: 1356.3\n",
       "\n",
       "Number of Fisher Scoring iterations: 4\n"
      ]
     },
     "metadata": {},
     "output_type": "display_data"
    }
   ],
   "source": [
    "m1 <- glm(Direction ~ . - Year - Today, data = Weekly.train, family = binomial)\n",
    "summary(m1)"
   ]
  },
  {
   "cell_type": "code",
   "execution_count": 113,
   "metadata": {},
   "outputs": [
    {
     "data": {
      "text/plain": [
       "       \n",
       "y.pred1 Down Up\n",
       "   Down   31 44\n",
       "   Up     12 17"
      ]
     },
     "metadata": {},
     "output_type": "display_data"
    }
   ],
   "source": [
    "y.pred1 <- ifelse(predict(m1, Weekly.test, type = 'response') > 0.5, 'Up', 'Down')\n",
    "table(y.pred1, Weekly.test$Direction)"
   ]
  },
  {
   "cell_type": "code",
   "execution_count": 108,
   "metadata": {},
   "outputs": [
    {
     "data": {
      "text/html": [
       "0.461538461538462"
      ],
      "text/latex": [
       "0.461538461538462"
      ],
      "text/markdown": [
       "0.461538461538462"
      ],
      "text/plain": [
       "[1] 0.4615385"
      ]
     },
     "metadata": {},
     "output_type": "display_data"
    }
   ],
   "source": [
    "mean(y.pred1 == Weekly.test$Direction)"
   ]
  },
  {
   "cell_type": "code",
   "execution_count": 114,
   "metadata": {},
   "outputs": [
    {
     "data": {
      "text/plain": [
       "\n",
       "Call:\n",
       "glm(formula = Direction ~ Lag2, family = binomial, data = Weekly.train)\n",
       "\n",
       "Deviance Residuals: \n",
       "   Min      1Q  Median      3Q     Max  \n",
       "-1.536  -1.264   1.021   1.091   1.368  \n",
       "\n",
       "Coefficients:\n",
       "            Estimate Std. Error z value Pr(>|z|)   \n",
       "(Intercept)  0.20326    0.06428   3.162  0.00157 **\n",
       "Lag2         0.05810    0.02870   2.024  0.04298 * \n",
       "---\n",
       "Signif. codes:  0 '***' 0.001 '**' 0.01 '*' 0.05 '.' 0.1 ' ' 1\n",
       "\n",
       "(Dispersion parameter for binomial family taken to be 1)\n",
       "\n",
       "    Null deviance: 1354.7  on 984  degrees of freedom\n",
       "Residual deviance: 1350.5  on 983  degrees of freedom\n",
       "AIC: 1354.5\n",
       "\n",
       "Number of Fisher Scoring iterations: 4\n"
      ]
     },
     "metadata": {},
     "output_type": "display_data"
    }
   ],
   "source": [
    "m2 <- glm(Direction ~ Lag2, data = Weekly.train, family = binomial)\n",
    "summary(m2)"
   ]
  },
  {
   "cell_type": "code",
   "execution_count": 115,
   "metadata": {
    "scrolled": false
   },
   "outputs": [
    {
     "data": {
      "text/plain": [
       "       \n",
       "y.pred2 Down Up\n",
       "   Down    9  5\n",
       "   Up     34 56"
      ]
     },
     "metadata": {},
     "output_type": "display_data"
    }
   ],
   "source": [
    "y.pred2 <- ifelse(predict(m2, Weekly.test, type = 'response') > 0.5, 'Up', 'Down')\n",
    "table(y.pred2, Weekly.test$Direction)"
   ]
  },
  {
   "cell_type": "code",
   "execution_count": 116,
   "metadata": {
    "scrolled": true
   },
   "outputs": [
    {
     "data": {
      "text/html": [
       "0.625"
      ],
      "text/latex": [
       "0.625"
      ],
      "text/markdown": [
       "0.625"
      ],
      "text/plain": [
       "[1] 0.625"
      ]
     },
     "metadata": {},
     "output_type": "display_data"
    }
   ],
   "source": [
    "mean(y.pred2 == Weekly.test$Direction)"
   ]
  },
  {
   "cell_type": "markdown",
   "metadata": {},
   "source": [
    "### LDA"
   ]
  },
  {
   "cell_type": "code",
   "execution_count": 117,
   "metadata": {},
   "outputs": [],
   "source": [
    "m3 <- lda(Direction ~ Lag2, data = Weekly.train)"
   ]
  },
  {
   "cell_type": "code",
   "execution_count": 136,
   "metadata": {},
   "outputs": [
    {
     "data": {
      "text/plain": [
       "       \n",
       "y.pred3 Down Up\n",
       "   Down    9  5\n",
       "   Up     34 56"
      ]
     },
     "metadata": {},
     "output_type": "display_data"
    }
   ],
   "source": [
    "y.pred3 <- predict(m3, Weekly.test)$class\n",
    "table(y.pred3, Weekly.test$Direction)"
   ]
  },
  {
   "cell_type": "code",
   "execution_count": 137,
   "metadata": {},
   "outputs": [
    {
     "data": {
      "text/html": [
       "0.625"
      ],
      "text/latex": [
       "0.625"
      ],
      "text/markdown": [
       "0.625"
      ],
      "text/plain": [
       "[1] 0.625"
      ]
     },
     "metadata": {},
     "output_type": "display_data"
    }
   ],
   "source": [
    "mean(y.pred3 == Weekly.test$Direction)"
   ]
  },
  {
   "cell_type": "code",
   "execution_count": 138,
   "metadata": {},
   "outputs": [],
   "source": [
    "?lda"
   ]
  },
  {
   "cell_type": "markdown",
   "metadata": {},
   "source": [
    "### QDA"
   ]
  },
  {
   "cell_type": "code",
   "execution_count": 131,
   "metadata": {},
   "outputs": [],
   "source": [
    "m4 <- qda(Direction ~ Lag2, data = Weekly.train)"
   ]
  },
  {
   "cell_type": "code",
   "execution_count": 132,
   "metadata": {},
   "outputs": [
    {
     "data": {
      "text/plain": [
       "       \n",
       "y.pred4 Down Up\n",
       "     Up   43 61"
      ]
     },
     "metadata": {},
     "output_type": "display_data"
    }
   ],
   "source": [
    "y.pred4 <- ifelse(predict(m4, Weekly.test)$posterior[, 2] >= 0.5, 'Up', 'Down')\n",
    "table(y.pred4, Weekly.test$Direction)"
   ]
  },
  {
   "cell_type": "code",
   "execution_count": 133,
   "metadata": {},
   "outputs": [
    {
     "data": {
      "text/html": [
       "0.586538461538462"
      ],
      "text/latex": [
       "0.586538461538462"
      ],
      "text/markdown": [
       "0.586538461538462"
      ],
      "text/plain": [
       "[1] 0.5865385"
      ]
     },
     "metadata": {},
     "output_type": "display_data"
    }
   ],
   "source": [
    "mean(y.pred4 == Weekly.test$Direction)"
   ]
  },
  {
   "cell_type": "markdown",
   "metadata": {},
   "source": [
    "### KNN"
   ]
  },
  {
   "cell_type": "code",
   "execution_count": 139,
   "metadata": {},
   "outputs": [],
   "source": [
    "library(class)"
   ]
  },
  {
   "cell_type": "code",
   "execution_count": 159,
   "metadata": {},
   "outputs": [],
   "source": [
    "X.train <- matrix(Weekly[train, 'Lag2'])\n",
    "X.test <- matrix(Weekly[!train, 'Lag2'])\n",
    "y.train <- Weekly[train, 'Direction']\n",
    "y.test <- Weekly[!train, 'Direction']"
   ]
  },
  {
   "cell_type": "code",
   "execution_count": 160,
   "metadata": {},
   "outputs": [],
   "source": [
    "set.seed(1)\n",
    "m5 <- knn(X.train, X.test, y.train, k = 1)"
   ]
  },
  {
   "cell_type": "code",
   "execution_count": 161,
   "metadata": {},
   "outputs": [
    {
     "data": {
      "text/plain": [
       "      y.test\n",
       "m5     Down Up\n",
       "  Down   21 30\n",
       "  Up     22 31"
      ]
     },
     "metadata": {},
     "output_type": "display_data"
    }
   ],
   "source": [
    "table(m5, y.test)"
   ]
  },
  {
   "cell_type": "code",
   "execution_count": 162,
   "metadata": {},
   "outputs": [
    {
     "data": {
      "text/html": [
       "0.5"
      ],
      "text/latex": [
       "0.5"
      ],
      "text/markdown": [
       "0.5"
      ],
      "text/plain": [
       "[1] 0.5"
      ]
     },
     "metadata": {},
     "output_type": "display_data"
    }
   ],
   "source": [
    "mean(m5 == y.test)"
   ]
  },
  {
   "cell_type": "code",
   "execution_count": 187,
   "metadata": {
    "scrolled": false
   },
   "outputs": [
    {
     "data": {
      "text/plain": [
       "      y.test\n",
       "m6     Down Up\n",
       "  Down   17 20\n",
       "  Up     26 41"
      ]
     },
     "metadata": {},
     "output_type": "display_data"
    },
    {
     "data": {
      "text/html": [
       "0.557692307692308"
      ],
      "text/latex": [
       "0.557692307692308"
      ],
      "text/markdown": [
       "0.557692307692308"
      ],
      "text/plain": [
       "[1] 0.5576923"
      ]
     },
     "metadata": {},
     "output_type": "display_data"
    }
   ],
   "source": [
    "set.seed(1)\n",
    "m6 <- knn(X.train, X.test, y.train, k = 9)\n",
    "table(m6, y.test)\n",
    "mean(m6 == y.test)"
   ]
  },
  {
   "cell_type": "markdown",
   "metadata": {},
   "source": [
    "# 11"
   ]
  },
  {
   "cell_type": "code",
   "execution_count": 240,
   "metadata": {},
   "outputs": [
    {
     "data": {
      "text/html": [
       "<table>\n",
       "<thead><tr><th scope=col>mpg</th><th scope=col>cylinders</th><th scope=col>displacement</th><th scope=col>horsepower</th><th scope=col>weight</th><th scope=col>acceleration</th><th scope=col>year</th><th scope=col>origin</th><th scope=col>name</th><th scope=col>mpg01</th></tr></thead>\n",
       "<tbody>\n",
       "\t<tr><td>18                       </td><td>8                        </td><td>307                      </td><td>130                      </td><td>3504                     </td><td>12.0                     </td><td>70                       </td><td>1                        </td><td>chevrolet chevelle malibu</td><td>0                        </td></tr>\n",
       "\t<tr><td>15                       </td><td>8                        </td><td>350                      </td><td>165                      </td><td>3693                     </td><td>11.5                     </td><td>70                       </td><td>1                        </td><td>buick skylark 320        </td><td>0                        </td></tr>\n",
       "\t<tr><td>18                       </td><td>8                        </td><td>318                      </td><td>150                      </td><td>3436                     </td><td>11.0                     </td><td>70                       </td><td>1                        </td><td>plymouth satellite       </td><td>0                        </td></tr>\n",
       "\t<tr><td>16                       </td><td>8                        </td><td>304                      </td><td>150                      </td><td>3433                     </td><td>12.0                     </td><td>70                       </td><td>1                        </td><td>amc rebel sst            </td><td>0                        </td></tr>\n",
       "\t<tr><td>17                       </td><td>8                        </td><td>302                      </td><td>140                      </td><td>3449                     </td><td>10.5                     </td><td>70                       </td><td>1                        </td><td>ford torino              </td><td>0                        </td></tr>\n",
       "\t<tr><td>15                       </td><td>8                        </td><td>429                      </td><td>198                      </td><td>4341                     </td><td>10.0                     </td><td>70                       </td><td>1                        </td><td>ford galaxie 500         </td><td>0                        </td></tr>\n",
       "</tbody>\n",
       "</table>\n"
      ],
      "text/latex": [
       "\\begin{tabular}{r|llllllllll}\n",
       " mpg & cylinders & displacement & horsepower & weight & acceleration & year & origin & name & mpg01\\\\\n",
       "\\hline\n",
       "\t 18                        & 8                         & 307                       & 130                       & 3504                      & 12.0                      & 70                        & 1                         & chevrolet chevelle malibu & 0                        \\\\\n",
       "\t 15                        & 8                         & 350                       & 165                       & 3693                      & 11.5                      & 70                        & 1                         & buick skylark 320         & 0                        \\\\\n",
       "\t 18                        & 8                         & 318                       & 150                       & 3436                      & 11.0                      & 70                        & 1                         & plymouth satellite        & 0                        \\\\\n",
       "\t 16                        & 8                         & 304                       & 150                       & 3433                      & 12.0                      & 70                        & 1                         & amc rebel sst             & 0                        \\\\\n",
       "\t 17                        & 8                         & 302                       & 140                       & 3449                      & 10.5                      & 70                        & 1                         & ford torino               & 0                        \\\\\n",
       "\t 15                        & 8                         & 429                       & 198                       & 4341                      & 10.0                      & 70                        & 1                         & ford galaxie 500          & 0                        \\\\\n",
       "\\end{tabular}\n"
      ],
      "text/markdown": [
       "\n",
       "mpg | cylinders | displacement | horsepower | weight | acceleration | year | origin | name | mpg01 | \n",
       "|---|---|---|---|---|---|\n",
       "| 18                        | 8                         | 307                       | 130                       | 3504                      | 12.0                      | 70                        | 1                         | chevrolet chevelle malibu | 0                         | \n",
       "| 15                        | 8                         | 350                       | 165                       | 3693                      | 11.5                      | 70                        | 1                         | buick skylark 320         | 0                         | \n",
       "| 18                        | 8                         | 318                       | 150                       | 3436                      | 11.0                      | 70                        | 1                         | plymouth satellite        | 0                         | \n",
       "| 16                        | 8                         | 304                       | 150                       | 3433                      | 12.0                      | 70                        | 1                         | amc rebel sst             | 0                         | \n",
       "| 17                        | 8                         | 302                       | 140                       | 3449                      | 10.5                      | 70                        | 1                         | ford torino               | 0                         | \n",
       "| 15                        | 8                         | 429                       | 198                       | 4341                      | 10.0                      | 70                        | 1                         | ford galaxie 500          | 0                         | \n",
       "\n",
       "\n"
      ],
      "text/plain": [
       "  mpg cylinders displacement horsepower weight acceleration year origin\n",
       "1 18  8         307          130        3504   12.0         70   1     \n",
       "2 15  8         350          165        3693   11.5         70   1     \n",
       "3 18  8         318          150        3436   11.0         70   1     \n",
       "4 16  8         304          150        3433   12.0         70   1     \n",
       "5 17  8         302          140        3449   10.5         70   1     \n",
       "6 15  8         429          198        4341   10.0         70   1     \n",
       "  name                      mpg01\n",
       "1 chevrolet chevelle malibu 0    \n",
       "2 buick skylark 320         0    \n",
       "3 plymouth satellite        0    \n",
       "4 amc rebel sst             0    \n",
       "5 ford torino               0    \n",
       "6 ford galaxie 500          0    "
      ]
     },
     "metadata": {},
     "output_type": "display_data"
    }
   ],
   "source": [
    "Auto$mpg01 <- ifelse(Auto$mpg > median(Auto$mpg), 1, 0)\n",
    "head(Auto)"
   ]
  },
  {
   "cell_type": "code",
   "execution_count": 241,
   "metadata": {
    "scrolled": false
   },
   "outputs": [
    {
     "data": {
      "image/png": "[encoded data removed]",
      "text/plain": [
       "plot without title"
      ]
     },
     "metadata": {},
     "output_type": "display_data"
    }
   ],
   "source": [
    "pairs(Auto[, -9])"
   ]
  },
  {
   "cell_type": "code",
   "execution_count": 314,
   "metadata": {},
   "outputs": [
    {
     "data": {
      "text/html": [
       "392"
      ],
      "text/latex": [
       "392"
      ],
      "text/markdown": [
       "392"
      ],
      "text/plain": [
       "[1] 392"
      ]
     },
     "metadata": {},
     "output_type": "display_data"
    }
   ],
   "source": [
    "nrow(Auto)"
   ]
  },
  {
   "cell_type": "code",
   "execution_count": 288,
   "metadata": {
    "scrolled": true
   },
   "outputs": [
    {
     "data": {
      "text/html": [
       "<ol class=list-inline>\n",
       "\t<li>250</li>\n",
       "\t<li>9</li>\n",
       "</ol>\n"
      ],
      "text/latex": [
       "\\begin{enumerate*}\n",
       "\\item 250\n",
       "\\item 9\n",
       "\\end{enumerate*}\n"
      ],
      "text/markdown": [
       "1. 250\n",
       "2. 9\n",
       "\n",
       "\n"
      ],
      "text/plain": [
       "[1] 250   9"
      ]
     },
     "metadata": {},
     "output_type": "display_data"
    },
    {
     "data": {
      "text/html": [
       "<ol class=list-inline>\n",
       "\t<li>142</li>\n",
       "\t<li>9</li>\n",
       "</ol>\n"
      ],
      "text/latex": [
       "\\begin{enumerate*}\n",
       "\\item 142\n",
       "\\item 9\n",
       "\\end{enumerate*}\n"
      ],
      "text/markdown": [
       "1. 142\n",
       "2. 9\n",
       "\n",
       "\n"
      ],
      "text/plain": [
       "[1] 142   9"
      ]
     },
     "metadata": {},
     "output_type": "display_data"
    }
   ],
   "source": [
    "set.seed(1)\n",
    "train.indicies <- sample(1:nrow(Auto), 250, replace = FALSE)\n",
    "train <- as.numeric(rownames(Auto)) %in% train.indicies\n",
    "Auto.train <- Auto1[train,]\n",
    "Auto.test <- Auto1[!train,]\n",
    "dim(Auto.train)\n",
    "dim(Auto.test)"
   ]
  },
  {
   "cell_type": "code",
   "execution_count": 258,
   "metadata": {},
   "outputs": [
    {
     "data": {
      "text/html": [
       "<table>\n",
       "<thead><tr><th></th><th scope=col>mpg</th><th scope=col>cylinders</th><th scope=col>displacement</th><th scope=col>horsepower</th><th scope=col>weight</th><th scope=col>acceleration</th><th scope=col>year</th><th scope=col>origin</th><th scope=col>mpg01</th></tr></thead>\n",
       "<tbody>\n",
       "\t<tr><th scope=row>4</th><td>16  </td><td>8   </td><td>304 </td><td>150 </td><td>3433</td><td>12.0</td><td>70  </td><td>1   </td><td>0   </td></tr>\n",
       "\t<tr><th scope=row>5</th><td>17  </td><td>8   </td><td>302 </td><td>140 </td><td>3449</td><td>10.5</td><td>70  </td><td>1   </td><td>0   </td></tr>\n",
       "\t<tr><th scope=row>8</th><td>14  </td><td>8   </td><td>440 </td><td>215 </td><td>4312</td><td> 8.5</td><td>70  </td><td>1   </td><td>0   </td></tr>\n",
       "\t<tr><th scope=row>9</th><td>14  </td><td>8   </td><td>455 </td><td>225 </td><td>4425</td><td>10.0</td><td>70  </td><td>1   </td><td>0   </td></tr>\n",
       "\t<tr><th scope=row>10</th><td>15  </td><td>8   </td><td>390 </td><td>190 </td><td>3850</td><td> 8.5</td><td>70  </td><td>1   </td><td>0   </td></tr>\n",
       "\t<tr><th scope=row>15</th><td>24  </td><td>4   </td><td>113 </td><td> 95 </td><td>2372</td><td>15.0</td><td>70  </td><td>3   </td><td>1   </td></tr>\n",
       "</tbody>\n",
       "</table>\n"
      ],
      "text/latex": [
       "\\begin{tabular}{r|lllllllll}\n",
       "  & mpg & cylinders & displacement & horsepower & weight & acceleration & year & origin & mpg01\\\\\n",
       "\\hline\n",
       "\t4 & 16   & 8    & 304  & 150  & 3433 & 12.0 & 70   & 1    & 0   \\\\\n",
       "\t5 & 17   & 8    & 302  & 140  & 3449 & 10.5 & 70   & 1    & 0   \\\\\n",
       "\t8 & 14   & 8    & 440  & 215  & 4312 &  8.5 & 70   & 1    & 0   \\\\\n",
       "\t9 & 14   & 8    & 455  & 225  & 4425 & 10.0 & 70   & 1    & 0   \\\\\n",
       "\t10 & 15   & 8    & 390  & 190  & 3850 &  8.5 & 70   & 1    & 0   \\\\\n",
       "\t15 & 24   & 4    & 113  &  95  & 2372 & 15.0 & 70   & 3    & 1   \\\\\n",
       "\\end{tabular}\n"
      ],
      "text/markdown": [
       "\n",
       "| <!--/--> | mpg | cylinders | displacement | horsepower | weight | acceleration | year | origin | mpg01 | \n",
       "|---|---|---|---|---|---|\n",
       "| 4 | 16   | 8    | 304  | 150  | 3433 | 12.0 | 70   | 1    | 0    | \n",
       "| 5 | 17   | 8    | 302  | 140  | 3449 | 10.5 | 70   | 1    | 0    | \n",
       "| 8 | 14   | 8    | 440  | 215  | 4312 |  8.5 | 70   | 1    | 0    | \n",
       "| 9 | 14   | 8    | 455  | 225  | 4425 | 10.0 | 70   | 1    | 0    | \n",
       "| 10 | 15   | 8    | 390  | 190  | 3850 |  8.5 | 70   | 1    | 0    | \n",
       "| 15 | 24   | 4    | 113  |  95  | 2372 | 15.0 | 70   | 3    | 1    | \n",
       "\n",
       "\n"
      ],
      "text/plain": [
       "   mpg cylinders displacement horsepower weight acceleration year origin mpg01\n",
       "4  16  8         304          150        3433   12.0         70   1      0    \n",
       "5  17  8         302          140        3449   10.5         70   1      0    \n",
       "8  14  8         440          215        4312    8.5         70   1      0    \n",
       "9  14  8         455          225        4425   10.0         70   1      0    \n",
       "10 15  8         390          190        3850    8.5         70   1      0    \n",
       "15 24  4         113           95        2372   15.0         70   3      1    "
      ]
     },
     "metadata": {},
     "output_type": "display_data"
    }
   ],
   "source": [
    "head(Auto.train)"
   ]
  },
  {
   "cell_type": "code",
   "execution_count": 265,
   "metadata": {},
   "outputs": [],
   "source": [
    "Auto1 <- Auto[, -9]"
   ]
  },
  {
   "cell_type": "code",
   "execution_count": 269,
   "metadata": {},
   "outputs": [],
   "source": [
    "Auto1$mpg01 <- as.factor(Auto1$mpg01)"
   ]
  },
  {
   "cell_type": "code",
   "execution_count": 270,
   "metadata": {},
   "outputs": [
    {
     "data": {
      "text/html": [
       "<table>\n",
       "<thead><tr><th></th><th scope=col>1</th></tr></thead>\n",
       "<tbody>\n",
       "\t<tr><th scope=row>0</th><td>0</td></tr>\n",
       "\t<tr><th scope=row>1</th><td>1</td></tr>\n",
       "</tbody>\n",
       "</table>\n"
      ],
      "text/latex": [
       "\\begin{tabular}{r|l}\n",
       "  & 1\\\\\n",
       "\\hline\n",
       "\t0 & 0\\\\\n",
       "\t1 & 1\\\\\n",
       "\\end{tabular}\n"
      ],
      "text/markdown": [
       "\n",
       "| <!--/--> | 1 | \n",
       "|---|---|\n",
       "| 0 | 0 | \n",
       "| 1 | 1 | \n",
       "\n",
       "\n"
      ],
      "text/plain": [
       "  1\n",
       "0 0\n",
       "1 1"
      ]
     },
     "metadata": {},
     "output_type": "display_data"
    }
   ],
   "source": [
    "contrasts(Auto1$mpg01)"
   ]
  },
  {
   "cell_type": "code",
   "execution_count": 320,
   "metadata": {
    "scrolled": true
   },
   "outputs": [
    {
     "data": {
      "text/plain": [
       "\n",
       "Call:\n",
       "glm(formula = mpg01 ~ . - mpg, family = binomial, data = Auto1)\n",
       "\n",
       "Deviance Residuals: \n",
       "    Min       1Q   Median       3Q      Max  \n",
       "-2.4277  -0.1061   0.0080   0.2123   3.1631  \n",
       "\n",
       "Coefficients:\n",
       "               Estimate Std. Error z value Pr(>|z|)    \n",
       "(Intercept)  -17.154875   5.763805  -2.976 0.002917 ** \n",
       "cylinders     -0.162589   0.423195  -0.384 0.700835    \n",
       "displacement   0.002095   0.012034   0.174 0.861789    \n",
       "horsepower    -0.041019   0.023872  -1.718 0.085750 .  \n",
       "weight        -0.004315   0.001140  -3.784 0.000154 ***\n",
       "acceleration   0.016065   0.141462   0.114 0.909582    \n",
       "year           0.429459   0.075225   5.709 1.14e-08 ***\n",
       "origin         0.477339   0.362014   1.319 0.187314    \n",
       "---\n",
       "Signif. codes:  0 '***' 0.001 '**' 0.01 '*' 0.05 '.' 0.1 ' ' 1\n",
       "\n",
       "(Dispersion parameter for binomial family taken to be 1)\n",
       "\n",
       "    Null deviance: 543.43  on 391  degrees of freedom\n",
       "Residual deviance: 157.54  on 384  degrees of freedom\n",
       "AIC: 173.54\n",
       "\n",
       "Number of Fisher Scoring iterations: 8\n"
      ]
     },
     "metadata": {},
     "output_type": "display_data"
    }
   ],
   "source": [
    "m6 <- glm(mpg01 ~ . - mpg, family = binomial, data = Auto1)\n",
    "summary(m6)"
   ]
  },
  {
   "cell_type": "code",
   "execution_count": 312,
   "metadata": {
    "scrolled": true
   },
   "outputs": [
    {
     "data": {},
     "metadata": {},
     "output_type": "display_data"
    },
    {
     "data": {
      "image/png": "[encoded data removed]",
      "text/plain": [
       "plot without title"
      ]
     },
     "metadata": {},
     "output_type": "display_data"
    }
   ],
   "source": [
    "Auto %>%\n",
    "ggplot(aes(year, mpg01)) +\n",
    "geom_point()"
   ]
  },
  {
   "cell_type": "code",
   "execution_count": 319,
   "metadata": {
    "scrolled": true
   },
   "outputs": [
    {
     "data": {
      "text/html": [
       "<table>\n",
       "<thead><tr><th></th><th scope=col>mpg</th><th scope=col>cylinders</th><th scope=col>displacement</th><th scope=col>horsepower</th><th scope=col>weight</th><th scope=col>acceleration</th><th scope=col>year</th><th scope=col>origin</th><th scope=col>mpg01</th></tr></thead>\n",
       "<tbody>\n",
       "\t<tr><th scope=row>mpg</th><td> 1.0000000</td><td>-0.7776175</td><td>-0.8051269</td><td>-0.7784268</td><td>-0.8322442</td><td> 0.4233285</td><td> 0.5805410</td><td> 0.5652088</td><td> 0.8369392</td></tr>\n",
       "\t<tr><th scope=row>cylinders</th><td>-0.7776175</td><td> 1.0000000</td><td> 0.9508233</td><td> 0.8429834</td><td> 0.8975273</td><td>-0.5046834</td><td>-0.3456474</td><td>-0.5689316</td><td>-0.7591939</td></tr>\n",
       "\t<tr><th scope=row>displacement</th><td>-0.8051269</td><td> 0.9508233</td><td> 1.0000000</td><td> 0.8972570</td><td> 0.9329944</td><td>-0.5438005</td><td>-0.3698552</td><td>-0.6145351</td><td>-0.7534766</td></tr>\n",
       "\t<tr><th scope=row>horsepower</th><td>-0.7784268</td><td> 0.8429834</td><td> 0.8972570</td><td> 1.0000000</td><td> 0.8645377</td><td>-0.6891955</td><td>-0.4163615</td><td>-0.4551715</td><td>-0.6670526</td></tr>\n",
       "\t<tr><th scope=row>weight</th><td>-0.8322442</td><td> 0.8975273</td><td> 0.9329944</td><td> 0.8645377</td><td> 1.0000000</td><td>-0.4168392</td><td>-0.3091199</td><td>-0.5850054</td><td>-0.7577566</td></tr>\n",
       "\t<tr><th scope=row>acceleration</th><td> 0.4233285</td><td>-0.5046834</td><td>-0.5438005</td><td>-0.6891955</td><td>-0.4168392</td><td> 1.0000000</td><td> 0.2903161</td><td> 0.2127458</td><td> 0.3468215</td></tr>\n",
       "\t<tr><th scope=row>year</th><td> 0.5805410</td><td>-0.3456474</td><td>-0.3698552</td><td>-0.4163615</td><td>-0.3091199</td><td> 0.2903161</td><td> 1.0000000</td><td> 0.1815277</td><td> 0.4299042</td></tr>\n",
       "\t<tr><th scope=row>origin</th><td> 0.5652088</td><td>-0.5689316</td><td>-0.6145351</td><td>-0.4551715</td><td>-0.5850054</td><td> 0.2127458</td><td> 0.1815277</td><td> 1.0000000</td><td> 0.5136984</td></tr>\n",
       "\t<tr><th scope=row>mpg01</th><td> 0.8369392</td><td>-0.7591939</td><td>-0.7534766</td><td>-0.6670526</td><td>-0.7577566</td><td> 0.3468215</td><td> 0.4299042</td><td> 0.5136984</td><td> 1.0000000</td></tr>\n",
       "</tbody>\n",
       "</table>\n"
      ],
      "text/latex": [
       "\\begin{tabular}{r|lllllllll}\n",
       "  & mpg & cylinders & displacement & horsepower & weight & acceleration & year & origin & mpg01\\\\\n",
       "\\hline\n",
       "\tmpg &  1.0000000 & -0.7776175 & -0.8051269 & -0.7784268 & -0.8322442 &  0.4233285 &  0.5805410 &  0.5652088 &  0.8369392\\\\\n",
       "\tcylinders & -0.7776175 &  1.0000000 &  0.9508233 &  0.8429834 &  0.8975273 & -0.5046834 & -0.3456474 & -0.5689316 & -0.7591939\\\\\n",
       "\tdisplacement & -0.8051269 &  0.9508233 &  1.0000000 &  0.8972570 &  0.9329944 & -0.5438005 & -0.3698552 & -0.6145351 & -0.7534766\\\\\n",
       "\thorsepower & -0.7784268 &  0.8429834 &  0.8972570 &  1.0000000 &  0.8645377 & -0.6891955 & -0.4163615 & -0.4551715 & -0.6670526\\\\\n",
       "\tweight & -0.8322442 &  0.8975273 &  0.9329944 &  0.8645377 &  1.0000000 & -0.4168392 & -0.3091199 & -0.5850054 & -0.7577566\\\\\n",
       "\tacceleration &  0.4233285 & -0.5046834 & -0.5438005 & -0.6891955 & -0.4168392 &  1.0000000 &  0.2903161 &  0.2127458 &  0.3468215\\\\\n",
       "\tyear &  0.5805410 & -0.3456474 & -0.3698552 & -0.4163615 & -0.3091199 &  0.2903161 &  1.0000000 &  0.1815277 &  0.4299042\\\\\n",
       "\torigin &  0.5652088 & -0.5689316 & -0.6145351 & -0.4551715 & -0.5850054 &  0.2127458 &  0.1815277 &  1.0000000 &  0.5136984\\\\\n",
       "\tmpg01 &  0.8369392 & -0.7591939 & -0.7534766 & -0.6670526 & -0.7577566 &  0.3468215 &  0.4299042 &  0.5136984 &  1.0000000\\\\\n",
       "\\end{tabular}\n"
      ],
      "text/markdown": [
       "\n",
       "| <!--/--> | mpg | cylinders | displacement | horsepower | weight | acceleration | year | origin | mpg01 | \n",
       "|---|---|---|---|---|---|---|---|---|\n",
       "| mpg |  1.0000000 | -0.7776175 | -0.8051269 | -0.7784268 | -0.8322442 |  0.4233285 |  0.5805410 |  0.5652088 |  0.8369392 | \n",
       "| cylinders | -0.7776175 |  1.0000000 |  0.9508233 |  0.8429834 |  0.8975273 | -0.5046834 | -0.3456474 | -0.5689316 | -0.7591939 | \n",
       "| displacement | -0.8051269 |  0.9508233 |  1.0000000 |  0.8972570 |  0.9329944 | -0.5438005 | -0.3698552 | -0.6145351 | -0.7534766 | \n",
       "| horsepower | -0.7784268 |  0.8429834 |  0.8972570 |  1.0000000 |  0.8645377 | -0.6891955 | -0.4163615 | -0.4551715 | -0.6670526 | \n",
       "| weight | -0.8322442 |  0.8975273 |  0.9329944 |  0.8645377 |  1.0000000 | -0.4168392 | -0.3091199 | -0.5850054 | -0.7577566 | \n",
       "| acceleration |  0.4233285 | -0.5046834 | -0.5438005 | -0.6891955 | -0.4168392 |  1.0000000 |  0.2903161 |  0.2127458 |  0.3468215 | \n",
       "| year |  0.5805410 | -0.3456474 | -0.3698552 | -0.4163615 | -0.3091199 |  0.2903161 |  1.0000000 |  0.1815277 |  0.4299042 | \n",
       "| origin |  0.5652088 | -0.5689316 | -0.6145351 | -0.4551715 | -0.5850054 |  0.2127458 |  0.1815277 |  1.0000000 |  0.5136984 | \n",
       "| mpg01 |  0.8369392 | -0.7591939 | -0.7534766 | -0.6670526 | -0.7577566 |  0.3468215 |  0.4299042 |  0.5136984 |  1.0000000 | \n",
       "\n",
       "\n"
      ],
      "text/plain": [
       "             mpg        cylinders  displacement horsepower weight    \n",
       "mpg           1.0000000 -0.7776175 -0.8051269   -0.7784268 -0.8322442\n",
       "cylinders    -0.7776175  1.0000000  0.9508233    0.8429834  0.8975273\n",
       "displacement -0.8051269  0.9508233  1.0000000    0.8972570  0.9329944\n",
       "horsepower   -0.7784268  0.8429834  0.8972570    1.0000000  0.8645377\n",
       "weight       -0.8322442  0.8975273  0.9329944    0.8645377  1.0000000\n",
       "acceleration  0.4233285 -0.5046834 -0.5438005   -0.6891955 -0.4168392\n",
       "year          0.5805410 -0.3456474 -0.3698552   -0.4163615 -0.3091199\n",
       "origin        0.5652088 -0.5689316 -0.6145351   -0.4551715 -0.5850054\n",
       "mpg01         0.8369392 -0.7591939 -0.7534766   -0.6670526 -0.7577566\n",
       "             acceleration year       origin     mpg01     \n",
       "mpg           0.4233285    0.5805410  0.5652088  0.8369392\n",
       "cylinders    -0.5046834   -0.3456474 -0.5689316 -0.7591939\n",
       "displacement -0.5438005   -0.3698552 -0.6145351 -0.7534766\n",
       "horsepower   -0.6891955   -0.4163615 -0.4551715 -0.6670526\n",
       "weight       -0.4168392   -0.3091199 -0.5850054 -0.7577566\n",
       "acceleration  1.0000000    0.2903161  0.2127458  0.3468215\n",
       "year          0.2903161    1.0000000  0.1815277  0.4299042\n",
       "origin        0.2127458    0.1815277  1.0000000  0.5136984\n",
       "mpg01         0.3468215    0.4299042  0.5136984  1.0000000"
      ]
     },
     "metadata": {},
     "output_type": "display_data"
    }
   ],
   "source": [
    "cor(Auto[,-9])"
   ]
  },
  {
   "cell_type": "code",
   "execution_count": 322,
   "metadata": {},
   "outputs": [
    {
     "data": {
      "text/plain": [
       "\n",
       "Call:\n",
       "glm(formula = mpg01 ~ year, family = binomial, data = Auto1)\n",
       "\n",
       "Deviance Residuals: \n",
       "     Min        1Q    Median        3Q       Max  \n",
       "-1.88994  -0.96401  -0.00187   0.95881   1.88399  \n",
       "\n",
       "Coefficients:\n",
       "             Estimate Std. Error z value Pr(>|z|)    \n",
       "(Intercept) -20.20537    2.53754  -7.963 1.68e-15 ***\n",
       "year          0.26595    0.03337   7.969 1.59e-15 ***\n",
       "---\n",
       "Signif. codes:  0 '***' 0.001 '**' 0.01 '*' 0.05 '.' 0.1 ' ' 1\n",
       "\n",
       "(Dispersion parameter for binomial family taken to be 1)\n",
       "\n",
       "    Null deviance: 543.43  on 391  degrees of freedom\n",
       "Residual deviance: 466.32  on 390  degrees of freedom\n",
       "AIC: 470.32\n",
       "\n",
       "Number of Fisher Scoring iterations: 4\n"
      ]
     },
     "metadata": {},
     "output_type": "display_data"
    }
   ],
   "source": [
    "m7 <- glm(mpg01 ~ year, family = binomial, data = Auto1)\n",
    "summary(m7)"
   ]
  }
 ],
 "metadata": {
  "kernelspec": {
   "display_name": "R",
   "language": "R",
   "name": "ir"
  },
  "language_info": {
   "codemirror_mode": "r",
   "file_extension": ".r",
   "mimetype": "text/x-r-source",
   "name": "R",
   "pygments_lexer": "r",
   "version": "3.4.4"
  }
 },
 "nbformat": 4,
 "nbformat_minor": 2
}
